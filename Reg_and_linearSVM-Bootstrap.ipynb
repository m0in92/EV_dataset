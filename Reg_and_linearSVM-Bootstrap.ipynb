{
 "cells": [
  {
   "cell_type": "code",
   "execution_count": 1,
   "metadata": {},
   "outputs": [],
   "source": [
    "import numpy as np\n",
    "import pandas as pd\n",
    "import os\n",
    "import glob\n",
    "import matplotlib.pyplot as plt\n",
    "import seaborn as sns\n",
    "from scipy import stats\n",
    "import re\n",
    "from sklearn.linear_model import LinearRegression, Ridge, Lasso, ElasticNet\n",
    "from sklearn.model_selection import train_test_split\n",
    "from pandas.plotting import table\n",
    "# import dataframe_image as dfi\n",
    "from sklearn.preprocessing import StandardScaler\n",
    "from sklearn.metrics import mean_squared_error, mean_absolute_error, mean_absolute_percentage_error, r2_score\n",
    "from sklearn.svm import LinearSVR, SVR\n",
    "from sklearn.linear_model import SGDRegressor"
   ]
  },
  {
   "cell_type": "code",
   "execution_count": 2,
   "metadata": {},
   "outputs": [],
   "source": [
    "def clean_bodystyle(x):\n",
    "    if type(x) == str:\n",
    "        if x in ['Crossover','Pick-up','Cabriolet','Coupe','-', 'Other']:\n",
    "            return 'Other'\n",
    "        else:\n",
    "            return x"
   ]
  },
  {
   "cell_type": "code",
   "execution_count": 3,
   "metadata": {},
   "outputs": [],
   "source": [
    "def clean_cooling(x):\n",
    "    if type(x) == str:\n",
    "        if x == 'Water-based coolant circulation':\n",
    "            return x\n",
    "        else:\n",
    "            return 'Other'"
   ]
  },
  {
   "cell_type": "code",
   "execution_count": 4,
   "metadata": {},
   "outputs": [],
   "source": [
    "df = pd.read_csv('output_new_refined_bootstap.csv').drop(['WLTP (km)','NEDC (km)'], axis = 1)"
   ]
  },
  {
   "cell_type": "code",
   "execution_count": 5,
   "metadata": {},
   "outputs": [],
   "source": [
    "df.dropna(inplace = True)"
   ]
  },
  {
   "cell_type": "code",
   "execution_count": 6,
   "metadata": {},
   "outputs": [],
   "source": [
    "train_set, test_set = train_test_split(df, test_size = 0.2, random_state = 101)"
   ]
  },
  {
   "cell_type": "code",
   "execution_count": 7,
   "metadata": {},
   "outputs": [
    {
     "name": "stderr",
     "output_type": "stream",
     "text": [
      "C:\\ProgramData\\Anaconda3\\lib\\site-packages\\pandas\\core\\frame.py:4906: SettingWithCopyWarning: \n",
      "A value is trying to be set on a copy of a slice from a DataFrame\n",
      "\n",
      "See the caveats in the documentation: https://pandas.pydata.org/pandas-docs/stable/user_guide/indexing.html#returning-a-view-versus-a-copy\n",
      "  return super().drop(\n"
     ]
    }
   ],
   "source": [
    "train_set.drop(['Number of cells', 'Number of modules', 'Voltage (V)', 'Materials'], axis = 1, inplace = True)\n",
    "test_set.drop(['Number of cells', 'Number of modules', 'Voltage (V)', 'Materials'], axis = 1, inplace = True)"
   ]
  },
  {
   "cell_type": "code",
   "execution_count": 8,
   "metadata": {},
   "outputs": [
    {
     "name": "stderr",
     "output_type": "stream",
     "text": [
      "C:\\ProgramData\\Anaconda3\\lib\\site-packages\\pandas\\util\\_decorators.py:311: SettingWithCopyWarning: \n",
      "A value is trying to be set on a copy of a slice from a DataFrame\n",
      "\n",
      "See the caveats in the documentation: https://pandas.pydata.org/pandas-docs/stable/user_guide/indexing.html#returning-a-view-versus-a-copy\n",
      "  return func(*args, **kwargs)\n"
     ]
    }
   ],
   "source": [
    "train_set.dropna(inplace = True)\n",
    "test_set.dropna(inplace = True)"
   ]
  },
  {
   "cell_type": "code",
   "execution_count": 9,
   "metadata": {},
   "outputs": [
    {
     "name": "stderr",
     "output_type": "stream",
     "text": [
      "C:\\ProgramData\\Anaconda3\\lib\\site-packages\\pandas\\core\\indexing.py:1773: SettingWithCopyWarning: \n",
      "A value is trying to be set on a copy of a slice from a DataFrame.\n",
      "Try using .loc[row_indexer,col_indexer] = value instead\n",
      "\n",
      "See the caveats in the documentation: https://pandas.pydata.org/pandas-docs/stable/user_guide/indexing.html#returning-a-view-versus-a-copy\n",
      "  self._setitem_single_column(ilocs[0], value, pi)\n"
     ]
    }
   ],
   "source": [
    "train_set.loc[:,'Body style'] = train_set['Body style'].apply(lambda x: clean_bodystyle(x))\n",
    "test_set.loc[:,'Body style'] = test_set['Body style'].apply(lambda x: clean_bodystyle(x))\n",
    "\n",
    "train_set.loc[:,'Cooling'] = train_set['Cooling'].apply(lambda x: clean_cooling(x))\n",
    "test_set.loc[:,'Cooling'] = test_set['Cooling'].apply(lambda x: clean_cooling(x))"
   ]
  },
  {
   "cell_type": "code",
   "execution_count": 10,
   "metadata": {},
   "outputs": [],
   "source": [
    "train_set = pd.get_dummies(data=train_set, columns=['Type of rechargeable battery', 'Cooling','Body style'])\n",
    "test_set = pd.get_dummies(data=test_set, columns=['Type of rechargeable battery', 'Cooling','Body style'])"
   ]
  },
  {
   "cell_type": "code",
   "execution_count": 11,
   "metadata": {},
   "outputs": [
    {
     "data": {
      "text/plain": [
       "(95, 15)"
      ]
     },
     "execution_count": 11,
     "metadata": {},
     "output_type": "execute_result"
    }
   ],
   "source": [
    "train_set.shape"
   ]
  },
  {
   "cell_type": "code",
   "execution_count": 12,
   "metadata": {},
   "outputs": [
    {
     "data": {
      "text/plain": [
       "(24, 15)"
      ]
     },
     "execution_count": 12,
     "metadata": {},
     "output_type": "execute_result"
    }
   ],
   "source": [
    "test_set.shape"
   ]
  },
  {
   "cell_type": "markdown",
   "metadata": {},
   "source": [
    "# Correlation"
   ]
  },
  {
   "cell_type": "code",
   "execution_count": 13,
   "metadata": {},
   "outputs": [
    {
     "data": {
      "text/html": [
       "<div>\n",
       "<style scoped>\n",
       "    .dataframe tbody tr th:only-of-type {\n",
       "        vertical-align: middle;\n",
       "    }\n",
       "\n",
       "    .dataframe tbody tr th {\n",
       "        vertical-align: top;\n",
       "    }\n",
       "\n",
       "    .dataframe thead th {\n",
       "        text-align: right;\n",
       "    }\n",
       "</style>\n",
       "<table border=\"1\" class=\"dataframe\">\n",
       "  <thead>\n",
       "    <tr style=\"text-align: right;\">\n",
       "      <th></th>\n",
       "      <th>Model year</th>\n",
       "      <th>Battery capacity (kWh)</th>\n",
       "      <th>Top Speed (km/h)</th>\n",
       "      <th>Acceleration from 0 to 100 km/h (s)</th>\n",
       "      <th>Curb weight (kg)</th>\n",
       "      <th>GVWR (kg)</th>\n",
       "      <th>EPA (km)</th>\n",
       "      <th>Type of rechargeable battery_Li-Ion Polymer</th>\n",
       "      <th>Type of rechargeable battery_Lithium-Ion</th>\n",
       "      <th>Cooling_Other</th>\n",
       "      <th>Cooling_Water-based coolant circulation</th>\n",
       "      <th>Body style_Hatchback</th>\n",
       "      <th>Body style_Other</th>\n",
       "      <th>Body style_Sedan</th>\n",
       "      <th>Body style_Sport utility vehicle (SUV)</th>\n",
       "    </tr>\n",
       "  </thead>\n",
       "  <tbody>\n",
       "    <tr>\n",
       "      <th>241</th>\n",
       "      <td>2016</td>\n",
       "      <td>90.0</td>\n",
       "      <td>249.930502</td>\n",
       "      <td>3.4</td>\n",
       "      <td>2438.995935</td>\n",
       "      <td>3069.996838</td>\n",
       "      <td>402.013132</td>\n",
       "      <td>0</td>\n",
       "      <td>1</td>\n",
       "      <td>0</td>\n",
       "      <td>1</td>\n",
       "      <td>0</td>\n",
       "      <td>0</td>\n",
       "      <td>0</td>\n",
       "      <td>1</td>\n",
       "    </tr>\n",
       "    <tr>\n",
       "      <th>308</th>\n",
       "      <td>2017</td>\n",
       "      <td>35.8</td>\n",
       "      <td>149.990488</td>\n",
       "      <td>9.6</td>\n",
       "      <td>1615.000708</td>\n",
       "      <td>2019.999397</td>\n",
       "      <td>201.167500</td>\n",
       "      <td>0</td>\n",
       "      <td>1</td>\n",
       "      <td>1</td>\n",
       "      <td>0</td>\n",
       "      <td>1</td>\n",
       "      <td>0</td>\n",
       "      <td>0</td>\n",
       "      <td>0</td>\n",
       "    </tr>\n",
       "    <tr>\n",
       "      <th>66</th>\n",
       "      <td>2020</td>\n",
       "      <td>64.0</td>\n",
       "      <td>167.049492</td>\n",
       "      <td>7.6</td>\n",
       "      <td>1739.997056</td>\n",
       "      <td>2159.996032</td>\n",
       "      <td>415.209720</td>\n",
       "      <td>1</td>\n",
       "      <td>0</td>\n",
       "      <td>1</td>\n",
       "      <td>0</td>\n",
       "      <td>0</td>\n",
       "      <td>0</td>\n",
       "      <td>0</td>\n",
       "      <td>1</td>\n",
       "    </tr>\n",
       "    <tr>\n",
       "      <th>307</th>\n",
       "      <td>2017</td>\n",
       "      <td>35.8</td>\n",
       "      <td>149.990488</td>\n",
       "      <td>9.6</td>\n",
       "      <td>1615.000708</td>\n",
       "      <td>2019.999397</td>\n",
       "      <td>201.167500</td>\n",
       "      <td>0</td>\n",
       "      <td>1</td>\n",
       "      <td>1</td>\n",
       "      <td>0</td>\n",
       "      <td>1</td>\n",
       "      <td>0</td>\n",
       "      <td>0</td>\n",
       "      <td>0</td>\n",
       "    </tr>\n",
       "    <tr>\n",
       "      <th>226</th>\n",
       "      <td>2017</td>\n",
       "      <td>100.0</td>\n",
       "      <td>249.930502</td>\n",
       "      <td>3.1</td>\n",
       "      <td>2486.999577</td>\n",
       "      <td>3119.996285</td>\n",
       "      <td>464.938326</td>\n",
       "      <td>0</td>\n",
       "      <td>1</td>\n",
       "      <td>0</td>\n",
       "      <td>1</td>\n",
       "      <td>0</td>\n",
       "      <td>0</td>\n",
       "      <td>0</td>\n",
       "      <td>1</td>\n",
       "    </tr>\n",
       "    <tr>\n",
       "      <th>...</th>\n",
       "      <td>...</td>\n",
       "      <td>...</td>\n",
       "      <td>...</td>\n",
       "      <td>...</td>\n",
       "      <td>...</td>\n",
       "      <td>...</td>\n",
       "      <td>...</td>\n",
       "      <td>...</td>\n",
       "      <td>...</td>\n",
       "      <td>...</td>\n",
       "      <td>...</td>\n",
       "      <td>...</td>\n",
       "      <td>...</td>\n",
       "      <td>...</td>\n",
       "      <td>...</td>\n",
       "    </tr>\n",
       "    <tr>\n",
       "      <th>224</th>\n",
       "      <td>2017</td>\n",
       "      <td>60.0</td>\n",
       "      <td>209.053266</td>\n",
       "      <td>5.7</td>\n",
       "      <td>2026.998322</td>\n",
       "      <td>2589.996712</td>\n",
       "      <td>337.961400</td>\n",
       "      <td>0</td>\n",
       "      <td>1</td>\n",
       "      <td>0</td>\n",
       "      <td>1</td>\n",
       "      <td>0</td>\n",
       "      <td>0</td>\n",
       "      <td>1</td>\n",
       "      <td>0</td>\n",
       "    </tr>\n",
       "    <tr>\n",
       "      <th>232</th>\n",
       "      <td>2016</td>\n",
       "      <td>75.0</td>\n",
       "      <td>224.985732</td>\n",
       "      <td>4.5</td>\n",
       "      <td>2026.998322</td>\n",
       "      <td>2589.996712</td>\n",
       "      <td>400.725660</td>\n",
       "      <td>0</td>\n",
       "      <td>1</td>\n",
       "      <td>0</td>\n",
       "      <td>1</td>\n",
       "      <td>0</td>\n",
       "      <td>0</td>\n",
       "      <td>1</td>\n",
       "      <td>0</td>\n",
       "    </tr>\n",
       "    <tr>\n",
       "      <th>243</th>\n",
       "      <td>2016</td>\n",
       "      <td>75.0</td>\n",
       "      <td>209.053266</td>\n",
       "      <td>6.2</td>\n",
       "      <td>2351.996990</td>\n",
       "      <td>2984.998234</td>\n",
       "      <td>383.022920</td>\n",
       "      <td>0</td>\n",
       "      <td>1</td>\n",
       "      <td>0</td>\n",
       "      <td>1</td>\n",
       "      <td>0</td>\n",
       "      <td>0</td>\n",
       "      <td>0</td>\n",
       "      <td>1</td>\n",
       "    </tr>\n",
       "    <tr>\n",
       "      <th>73</th>\n",
       "      <td>2020</td>\n",
       "      <td>90.0</td>\n",
       "      <td>200.040962</td>\n",
       "      <td>4.8</td>\n",
       "      <td>2169.997736</td>\n",
       "      <td>2669.996733</td>\n",
       "      <td>376.585560</td>\n",
       "      <td>0</td>\n",
       "      <td>1</td>\n",
       "      <td>0</td>\n",
       "      <td>1</td>\n",
       "      <td>0</td>\n",
       "      <td>0</td>\n",
       "      <td>0</td>\n",
       "      <td>1</td>\n",
       "    </tr>\n",
       "    <tr>\n",
       "      <th>257</th>\n",
       "      <td>2015</td>\n",
       "      <td>85.0</td>\n",
       "      <td>229.974686</td>\n",
       "      <td>5.4</td>\n",
       "      <td>2199.000408</td>\n",
       "      <td>2639.996158</td>\n",
       "      <td>434.521800</td>\n",
       "      <td>0</td>\n",
       "      <td>1</td>\n",
       "      <td>0</td>\n",
       "      <td>1</td>\n",
       "      <td>0</td>\n",
       "      <td>0</td>\n",
       "      <td>1</td>\n",
       "      <td>0</td>\n",
       "    </tr>\n",
       "  </tbody>\n",
       "</table>\n",
       "<p>95 rows × 15 columns</p>\n",
       "</div>"
      ],
      "text/plain": [
       "     Model year  Battery capacity (kWh)  Top Speed (km/h)  \\\n",
       "241        2016                    90.0        249.930502   \n",
       "308        2017                    35.8        149.990488   \n",
       "66         2020                    64.0        167.049492   \n",
       "307        2017                    35.8        149.990488   \n",
       "226        2017                   100.0        249.930502   \n",
       "..          ...                     ...               ...   \n",
       "224        2017                    60.0        209.053266   \n",
       "232        2016                    75.0        224.985732   \n",
       "243        2016                    75.0        209.053266   \n",
       "73         2020                    90.0        200.040962   \n",
       "257        2015                    85.0        229.974686   \n",
       "\n",
       "     Acceleration from 0 to 100 km/h (s)  Curb weight (kg)    GVWR (kg)  \\\n",
       "241                                  3.4       2438.995935  3069.996838   \n",
       "308                                  9.6       1615.000708  2019.999397   \n",
       "66                                   7.6       1739.997056  2159.996032   \n",
       "307                                  9.6       1615.000708  2019.999397   \n",
       "226                                  3.1       2486.999577  3119.996285   \n",
       "..                                   ...               ...          ...   \n",
       "224                                  5.7       2026.998322  2589.996712   \n",
       "232                                  4.5       2026.998322  2589.996712   \n",
       "243                                  6.2       2351.996990  2984.998234   \n",
       "73                                   4.8       2169.997736  2669.996733   \n",
       "257                                  5.4       2199.000408  2639.996158   \n",
       "\n",
       "       EPA (km)  Type of rechargeable battery_Li-Ion Polymer  \\\n",
       "241  402.013132                                            0   \n",
       "308  201.167500                                            0   \n",
       "66   415.209720                                            1   \n",
       "307  201.167500                                            0   \n",
       "226  464.938326                                            0   \n",
       "..          ...                                          ...   \n",
       "224  337.961400                                            0   \n",
       "232  400.725660                                            0   \n",
       "243  383.022920                                            0   \n",
       "73   376.585560                                            0   \n",
       "257  434.521800                                            0   \n",
       "\n",
       "     Type of rechargeable battery_Lithium-Ion  Cooling_Other  \\\n",
       "241                                         1              0   \n",
       "308                                         1              1   \n",
       "66                                          0              1   \n",
       "307                                         1              1   \n",
       "226                                         1              0   \n",
       "..                                        ...            ...   \n",
       "224                                         1              0   \n",
       "232                                         1              0   \n",
       "243                                         1              0   \n",
       "73                                          1              0   \n",
       "257                                         1              0   \n",
       "\n",
       "     Cooling_Water-based coolant circulation  Body style_Hatchback  \\\n",
       "241                                        1                     0   \n",
       "308                                        0                     1   \n",
       "66                                         0                     0   \n",
       "307                                        0                     1   \n",
       "226                                        1                     0   \n",
       "..                                       ...                   ...   \n",
       "224                                        1                     0   \n",
       "232                                        1                     0   \n",
       "243                                        1                     0   \n",
       "73                                         1                     0   \n",
       "257                                        1                     0   \n",
       "\n",
       "     Body style_Other  Body style_Sedan  \\\n",
       "241                 0                 0   \n",
       "308                 0                 0   \n",
       "66                  0                 0   \n",
       "307                 0                 0   \n",
       "226                 0                 0   \n",
       "..                ...               ...   \n",
       "224                 0                 1   \n",
       "232                 0                 1   \n",
       "243                 0                 0   \n",
       "73                  0                 0   \n",
       "257                 0                 1   \n",
       "\n",
       "     Body style_Sport utility vehicle (SUV)  \n",
       "241                                       1  \n",
       "308                                       0  \n",
       "66                                        1  \n",
       "307                                       0  \n",
       "226                                       1  \n",
       "..                                      ...  \n",
       "224                                       0  \n",
       "232                                       0  \n",
       "243                                       1  \n",
       "73                                        1  \n",
       "257                                       0  \n",
       "\n",
       "[95 rows x 15 columns]"
      ]
     },
     "execution_count": 13,
     "metadata": {},
     "output_type": "execute_result"
    }
   ],
   "source": [
    "train_set"
   ]
  },
  {
   "cell_type": "code",
   "execution_count": 14,
   "metadata": {},
   "outputs": [
    {
     "data": {
      "text/html": [
       "<div>\n",
       "<style scoped>\n",
       "    .dataframe tbody tr th:only-of-type {\n",
       "        vertical-align: middle;\n",
       "    }\n",
       "\n",
       "    .dataframe tbody tr th {\n",
       "        vertical-align: top;\n",
       "    }\n",
       "\n",
       "    .dataframe thead th {\n",
       "        text-align: right;\n",
       "    }\n",
       "</style>\n",
       "<table border=\"1\" class=\"dataframe\">\n",
       "  <thead>\n",
       "    <tr style=\"text-align: right;\">\n",
       "      <th></th>\n",
       "      <th>EPA (km)</th>\n",
       "    </tr>\n",
       "  </thead>\n",
       "  <tbody>\n",
       "    <tr>\n",
       "      <th>EPA (km)</th>\n",
       "      <td>1.000000</td>\n",
       "    </tr>\n",
       "    <tr>\n",
       "      <th>Battery capacity (kWh)</th>\n",
       "      <td>0.918576</td>\n",
       "    </tr>\n",
       "    <tr>\n",
       "      <th>Top Speed (km/h)</th>\n",
       "      <td>0.830613</td>\n",
       "    </tr>\n",
       "    <tr>\n",
       "      <th>Cooling_Water-based coolant circulation</th>\n",
       "      <td>0.782999</td>\n",
       "    </tr>\n",
       "    <tr>\n",
       "      <th>Curb weight (kg)</th>\n",
       "      <td>0.749695</td>\n",
       "    </tr>\n",
       "    <tr>\n",
       "      <th>GVWR (kg)</th>\n",
       "      <td>0.706556</td>\n",
       "    </tr>\n",
       "    <tr>\n",
       "      <th>Body style_Sedan</th>\n",
       "      <td>0.526853</td>\n",
       "    </tr>\n",
       "    <tr>\n",
       "      <th>Model year</th>\n",
       "      <td>0.303646</td>\n",
       "    </tr>\n",
       "    <tr>\n",
       "      <th>Body style_Sport utility vehicle (SUV)</th>\n",
       "      <td>0.287497</td>\n",
       "    </tr>\n",
       "    <tr>\n",
       "      <th>Type of rechargeable battery_Lithium-Ion</th>\n",
       "      <td>0.111939</td>\n",
       "    </tr>\n",
       "    <tr>\n",
       "      <th>Type of rechargeable battery_Li-Ion Polymer</th>\n",
       "      <td>-0.111939</td>\n",
       "    </tr>\n",
       "    <tr>\n",
       "      <th>Body style_Other</th>\n",
       "      <td>-0.226675</td>\n",
       "    </tr>\n",
       "    <tr>\n",
       "      <th>Body style_Hatchback</th>\n",
       "      <td>-0.727402</td>\n",
       "    </tr>\n",
       "    <tr>\n",
       "      <th>Cooling_Other</th>\n",
       "      <td>-0.782999</td>\n",
       "    </tr>\n",
       "    <tr>\n",
       "      <th>Acceleration from 0 to 100 km/h (s)</th>\n",
       "      <td>-0.848938</td>\n",
       "    </tr>\n",
       "  </tbody>\n",
       "</table>\n",
       "</div>"
      ],
      "text/plain": [
       "                                             EPA (km)\n",
       "EPA (km)                                     1.000000\n",
       "Battery capacity (kWh)                       0.918576\n",
       "Top Speed (km/h)                             0.830613\n",
       "Cooling_Water-based coolant circulation      0.782999\n",
       "Curb weight (kg)                             0.749695\n",
       "GVWR (kg)                                    0.706556\n",
       "Body style_Sedan                             0.526853\n",
       "Model year                                   0.303646\n",
       "Body style_Sport utility vehicle (SUV)       0.287497\n",
       "Type of rechargeable battery_Lithium-Ion     0.111939\n",
       "Type of rechargeable battery_Li-Ion Polymer -0.111939\n",
       "Body style_Other                            -0.226675\n",
       "Body style_Hatchback                        -0.727402\n",
       "Cooling_Other                               -0.782999\n",
       "Acceleration from 0 to 100 km/h (s)         -0.848938"
      ]
     },
     "execution_count": 14,
     "metadata": {},
     "output_type": "execute_result"
    }
   ],
   "source": [
    "corr_matrix = train_set.dropna().corr()\n",
    "corr_matrix = pd.DataFrame(corr_matrix['EPA (km)'].sort_values(ascending = False))\n",
    "corr_matrix"
   ]
  },
  {
   "cell_type": "markdown",
   "metadata": {},
   "source": [
    "# Standardization"
   ]
  },
  {
   "cell_type": "code",
   "execution_count": 15,
   "metadata": {},
   "outputs": [],
   "source": [
    "y_train = train_set['EPA (km)']\n",
    "X_train = train_set.drop('EPA (km)', axis = 1)\n",
    "\n",
    "y_test = test_set['EPA (km)']\n",
    "X_test = test_set.drop('EPA (km)', axis = 1)"
   ]
  },
  {
   "cell_type": "code",
   "execution_count": 16,
   "metadata": {},
   "outputs": [
    {
     "data": {
      "text/plain": [
       "Index(['Model year', 'Battery capacity (kWh)', 'Top Speed (km/h)',\n",
       "       'Acceleration from 0 to 100 km/h (s)', 'Curb weight (kg)', 'GVWR (kg)',\n",
       "       'Type of rechargeable battery_Li-Ion Polymer',\n",
       "       'Type of rechargeable battery_Lithium-Ion', 'Cooling_Other',\n",
       "       'Cooling_Water-based coolant circulation', 'Body style_Hatchback',\n",
       "       'Body style_Other', 'Body style_Sedan',\n",
       "       'Body style_Sport utility vehicle (SUV)'],\n",
       "      dtype='object')"
      ]
     },
     "execution_count": 16,
     "metadata": {},
     "output_type": "execute_result"
    }
   ],
   "source": [
    "X_train.columns"
   ]
  },
  {
   "cell_type": "code",
   "execution_count": 17,
   "metadata": {},
   "outputs": [],
   "source": [
    "scaler_x = StandardScaler()\n",
    "scaled_X_train = scaler_x.fit_transform(X_train)\n",
    "scaled_X_train = pd.DataFrame(scaled_X_train, columns = X_train.columns)\n",
    "\n",
    "scaler_y = StandardScaler()\n",
    "y_train = y_train.values.reshape(-1,1)\n",
    "scaled_y_train = scaler_y.fit_transform(y_train)\n",
    "#scaled_y_train = pd.DataFrame(scaled_y_train, columns = y_train.columns)"
   ]
  },
  {
   "cell_type": "code",
   "execution_count": 18,
   "metadata": {},
   "outputs": [],
   "source": [
    "scaled_X_test = scaler_x.transform(X_test)\n",
    "y_test = y_test.values.reshape(-1,1)\n",
    "scaled_y_test = scaler_y.transform(y_test)"
   ]
  },
  {
   "cell_type": "markdown",
   "metadata": {},
   "source": [
    "# Model Training and Testing"
   ]
  },
  {
   "cell_type": "markdown",
   "metadata": {},
   "source": [
    "## Linear Regression without the standardization"
   ]
  },
  {
   "cell_type": "code",
   "execution_count": 19,
   "metadata": {},
   "outputs": [
    {
     "data": {
      "text/plain": [
       "LinearRegression()"
      ]
     },
     "execution_count": 19,
     "metadata": {},
     "output_type": "execute_result"
    }
   ],
   "source": [
    "lin_reg = LinearRegression()\n",
    "lin_reg.fit(X_train, y_train)"
   ]
  },
  {
   "cell_type": "code",
   "execution_count": 20,
   "metadata": {},
   "outputs": [],
   "source": [
    "predictions = lin_reg.predict(X_test)\n",
    "lin_mse = mean_squared_error(test_set['EPA (km)'], predictions)"
   ]
  },
  {
   "cell_type": "code",
   "execution_count": 21,
   "metadata": {},
   "outputs": [
    {
     "data": {
      "text/plain": [
       "33.20016732796235"
      ]
     },
     "execution_count": 21,
     "metadata": {},
     "output_type": "execute_result"
    }
   ],
   "source": [
    "np.sqrt(lin_mse)"
   ]
  },
  {
   "cell_type": "code",
   "execution_count": 22,
   "metadata": {},
   "outputs": [
    {
     "data": {
      "text/plain": [
       "['Model year',\n",
       " 'Battery capacity (kWh)',\n",
       " 'Top Speed (km/h)',\n",
       " 'Acceleration from 0 to 100 km/h (s)',\n",
       " 'Curb weight (kg)',\n",
       " 'GVWR (kg)',\n",
       " 'Type of rechargeable battery_Li-Ion Polymer',\n",
       " 'Type of rechargeable battery_Lithium-Ion',\n",
       " 'Cooling_Other',\n",
       " 'Cooling_Water-based coolant circulation',\n",
       " 'Body style_Hatchback',\n",
       " 'Body style_Other',\n",
       " 'Body style_Sedan',\n",
       " 'Body style_Sport utility vehicle (SUV)']"
      ]
     },
     "execution_count": 22,
     "metadata": {},
     "output_type": "execute_result"
    }
   ],
   "source": [
    "X_train.columns.tolist()"
   ]
  },
  {
   "cell_type": "code",
   "execution_count": 23,
   "metadata": {},
   "outputs": [
    {
     "data": {
      "text/plain": [
       "array([ 18.64086045,   3.8013835 ,   0.08369935,  10.23893635,\n",
       "         0.2214389 ,  -0.19228157,  12.64122566, -12.64122566,\n",
       "       -28.91752979,  28.91752979,  -5.11755032, -60.24407043,\n",
       "        51.83380477,  13.52781598])"
      ]
     },
     "execution_count": 23,
     "metadata": {},
     "output_type": "execute_result"
    }
   ],
   "source": [
    "lin_reg.coef_[0]"
   ]
  },
  {
   "cell_type": "code",
   "execution_count": 24,
   "metadata": {},
   "outputs": [
    {
     "data": {
      "text/html": [
       "<div>\n",
       "<style scoped>\n",
       "    .dataframe tbody tr th:only-of-type {\n",
       "        vertical-align: middle;\n",
       "    }\n",
       "\n",
       "    .dataframe tbody tr th {\n",
       "        vertical-align: top;\n",
       "    }\n",
       "\n",
       "    .dataframe thead th {\n",
       "        text-align: right;\n",
       "    }\n",
       "</style>\n",
       "<table border=\"1\" class=\"dataframe\">\n",
       "  <thead>\n",
       "    <tr style=\"text-align: right;\">\n",
       "      <th></th>\n",
       "      <th>feature</th>\n",
       "      <th>co_eff</th>\n",
       "    </tr>\n",
       "  </thead>\n",
       "  <tbody>\n",
       "    <tr>\n",
       "      <th>0</th>\n",
       "      <td>Model year</td>\n",
       "      <td>18.640860</td>\n",
       "    </tr>\n",
       "    <tr>\n",
       "      <th>1</th>\n",
       "      <td>Battery capacity (kWh)</td>\n",
       "      <td>3.801384</td>\n",
       "    </tr>\n",
       "    <tr>\n",
       "      <th>2</th>\n",
       "      <td>Top Speed (km/h)</td>\n",
       "      <td>0.083699</td>\n",
       "    </tr>\n",
       "    <tr>\n",
       "      <th>3</th>\n",
       "      <td>Acceleration from 0 to 100 km/h (s)</td>\n",
       "      <td>10.238936</td>\n",
       "    </tr>\n",
       "    <tr>\n",
       "      <th>4</th>\n",
       "      <td>Curb weight (kg)</td>\n",
       "      <td>0.221439</td>\n",
       "    </tr>\n",
       "    <tr>\n",
       "      <th>5</th>\n",
       "      <td>GVWR (kg)</td>\n",
       "      <td>-0.192282</td>\n",
       "    </tr>\n",
       "    <tr>\n",
       "      <th>6</th>\n",
       "      <td>Type of rechargeable battery_Li-Ion Polymer</td>\n",
       "      <td>12.641226</td>\n",
       "    </tr>\n",
       "    <tr>\n",
       "      <th>7</th>\n",
       "      <td>Type of rechargeable battery_Lithium-Ion</td>\n",
       "      <td>-12.641226</td>\n",
       "    </tr>\n",
       "    <tr>\n",
       "      <th>8</th>\n",
       "      <td>Cooling_Other</td>\n",
       "      <td>-28.917530</td>\n",
       "    </tr>\n",
       "    <tr>\n",
       "      <th>9</th>\n",
       "      <td>Cooling_Water-based coolant circulation</td>\n",
       "      <td>28.917530</td>\n",
       "    </tr>\n",
       "    <tr>\n",
       "      <th>10</th>\n",
       "      <td>Body style_Hatchback</td>\n",
       "      <td>-5.117550</td>\n",
       "    </tr>\n",
       "    <tr>\n",
       "      <th>11</th>\n",
       "      <td>Body style_Other</td>\n",
       "      <td>-60.244070</td>\n",
       "    </tr>\n",
       "    <tr>\n",
       "      <th>12</th>\n",
       "      <td>Body style_Sedan</td>\n",
       "      <td>51.833805</td>\n",
       "    </tr>\n",
       "    <tr>\n",
       "      <th>13</th>\n",
       "      <td>Body style_Sport utility vehicle (SUV)</td>\n",
       "      <td>13.527816</td>\n",
       "    </tr>\n",
       "  </tbody>\n",
       "</table>\n",
       "</div>"
      ],
      "text/plain": [
       "                                        feature     co_eff\n",
       "0                                    Model year  18.640860\n",
       "1                        Battery capacity (kWh)   3.801384\n",
       "2                              Top Speed (km/h)   0.083699\n",
       "3           Acceleration from 0 to 100 km/h (s)  10.238936\n",
       "4                              Curb weight (kg)   0.221439\n",
       "5                                     GVWR (kg)  -0.192282\n",
       "6   Type of rechargeable battery_Li-Ion Polymer  12.641226\n",
       "7      Type of rechargeable battery_Lithium-Ion -12.641226\n",
       "8                                 Cooling_Other -28.917530\n",
       "9       Cooling_Water-based coolant circulation  28.917530\n",
       "10                         Body style_Hatchback  -5.117550\n",
       "11                             Body style_Other -60.244070\n",
       "12                             Body style_Sedan  51.833805\n",
       "13       Body style_Sport utility vehicle (SUV)  13.527816"
      ]
     },
     "execution_count": 24,
     "metadata": {},
     "output_type": "execute_result"
    }
   ],
   "source": [
    "pd.DataFrame({'feature':X_train.columns.tolist(), \n",
    "              'co_eff': lin_reg.coef_[0]})"
   ]
  },
  {
   "cell_type": "code",
   "execution_count": 25,
   "metadata": {},
   "outputs": [
    {
     "data": {
      "text/plain": [
       "array([-37562.4845978])"
      ]
     },
     "execution_count": 25,
     "metadata": {},
     "output_type": "execute_result"
    }
   ],
   "source": [
    "lin_reg.intercept_"
   ]
  },
  {
   "cell_type": "markdown",
   "metadata": {},
   "source": [
    "## Linear Regression"
   ]
  },
  {
   "cell_type": "code",
   "execution_count": 26,
   "metadata": {},
   "outputs": [
    {
     "data": {
      "text/plain": [
       "LinearRegression()"
      ]
     },
     "execution_count": 26,
     "metadata": {},
     "output_type": "execute_result"
    }
   ],
   "source": [
    "lin_reg = LinearRegression()\n",
    "lin_reg.fit(scaled_X_train, scaled_y_train)"
   ]
  },
  {
   "cell_type": "code",
   "execution_count": 27,
   "metadata": {},
   "outputs": [],
   "source": [
    "predictions = lin_reg.predict(scaled_X_test)\n",
    "predictions = scaler_y.inverse_transform(predictions)\n",
    "lin_mse = mean_squared_error(test_set['EPA (km)'], predictions)\n",
    "lin_mae = mean_absolute_error(test_set['EPA (km)'], predictions)\n",
    "lin_mape = mean_absolute_percentage_error(test_set['EPA (km)'], predictions)\n",
    "lin_r2 = r2_score(test_set['EPA (km)'], predictions)"
   ]
  },
  {
   "cell_type": "code",
   "execution_count": 28,
   "metadata": {},
   "outputs": [
    {
     "data": {
      "text/plain": [
       "1102.2511106045304"
      ]
     },
     "execution_count": 28,
     "metadata": {},
     "output_type": "execute_result"
    }
   ],
   "source": [
    "lin_mse"
   ]
  },
  {
   "cell_type": "code",
   "execution_count": 29,
   "metadata": {},
   "outputs": [
    {
     "data": {
      "text/plain": [
       "33.20016732795982"
      ]
     },
     "execution_count": 29,
     "metadata": {},
     "output_type": "execute_result"
    }
   ],
   "source": [
    "np.sqrt(lin_mse)"
   ]
  },
  {
   "cell_type": "code",
   "execution_count": 30,
   "metadata": {},
   "outputs": [
    {
     "data": {
      "text/plain": [
       "23.378969744920287"
      ]
     },
     "execution_count": 30,
     "metadata": {},
     "output_type": "execute_result"
    }
   ],
   "source": [
    "lin_mae"
   ]
  },
  {
   "cell_type": "code",
   "execution_count": 31,
   "metadata": {},
   "outputs": [
    {
     "data": {
      "text/plain": [
       "0.06666037390178703"
      ]
     },
     "execution_count": 31,
     "metadata": {},
     "output_type": "execute_result"
    }
   ],
   "source": [
    "lin_mape"
   ]
  },
  {
   "cell_type": "code",
   "execution_count": 32,
   "metadata": {},
   "outputs": [
    {
     "data": {
      "text/plain": [
       "0.9315420106697032"
      ]
     },
     "execution_count": 32,
     "metadata": {},
     "output_type": "execute_result"
    }
   ],
   "source": [
    "lin_r2"
   ]
  },
  {
   "cell_type": "markdown",
   "metadata": {},
   "source": [
    "## Support Vector Regression"
   ]
  },
  {
   "cell_type": "code",
   "execution_count": 33,
   "metadata": {},
   "outputs": [
    {
     "name": "stderr",
     "output_type": "stream",
     "text": [
      "C:\\ProgramData\\Anaconda3\\lib\\site-packages\\sklearn\\utils\\validation.py:63: DataConversionWarning: A column-vector y was passed when a 1d array was expected. Please change the shape of y to (n_samples, ), for example using ravel().\n",
      "  return f(*args, **kwargs)\n"
     ]
    },
    {
     "data": {
      "text/plain": [
       "LinearSVR(epsilon=0.5)"
      ]
     },
     "execution_count": 33,
     "metadata": {},
     "output_type": "execute_result"
    }
   ],
   "source": [
    "svm_reg = LinearSVR(epsilon = 0.5)\n",
    "svm_reg.fit(scaled_X_train, scaled_y_train)"
   ]
  },
  {
   "cell_type": "code",
   "execution_count": 34,
   "metadata": {},
   "outputs": [],
   "source": [
    "svr_predictions = svm_reg.predict(scaled_X_test)\n",
    "svr_predictions = scaler_y.inverse_transform(svr_predictions)\n",
    "svr_mse = mean_squared_error(test_set['EPA (km)'], svr_predictions)\n",
    "svr_mae = mean_absolute_error(test_set['EPA (km)'], svr_predictions)\n",
    "svr_mape = mean_absolute_percentage_error(test_set['EPA (km)'], svr_predictions)\n",
    "svr_r2 = r2_score(test_set['EPA (km)'], svr_predictions)"
   ]
  },
  {
   "cell_type": "code",
   "execution_count": 35,
   "metadata": {},
   "outputs": [
    {
     "data": {
      "text/plain": [
       "40.134724706870564"
      ]
     },
     "execution_count": 35,
     "metadata": {},
     "output_type": "execute_result"
    }
   ],
   "source": [
    "np.sqrt(svr_mse)"
   ]
  },
  {
   "cell_type": "code",
   "execution_count": 36,
   "metadata": {},
   "outputs": [
    {
     "data": {
      "text/plain": [
       "32.88802136922167"
      ]
     },
     "execution_count": 36,
     "metadata": {},
     "output_type": "execute_result"
    }
   ],
   "source": [
    "svr_mae"
   ]
  },
  {
   "cell_type": "code",
   "execution_count": 37,
   "metadata": {},
   "outputs": [
    {
     "data": {
      "text/plain": [
       "0.09856276752089736"
      ]
     },
     "execution_count": 37,
     "metadata": {},
     "output_type": "execute_result"
    }
   ],
   "source": [
    "svr_mape"
   ]
  },
  {
   "cell_type": "code",
   "execution_count": 38,
   "metadata": {},
   "outputs": [
    {
     "data": {
      "text/plain": [
       "0.8999575840433911"
      ]
     },
     "execution_count": 38,
     "metadata": {},
     "output_type": "execute_result"
    }
   ],
   "source": [
    "svr_r2"
   ]
  },
  {
   "cell_type": "markdown",
   "metadata": {},
   "source": [
    "## Ridge Regression"
   ]
  },
  {
   "cell_type": "code",
   "execution_count": 40,
   "metadata": {},
   "outputs": [
    {
     "data": {
      "text/plain": [
       "Ridge(alpha=1, solver='cholesky')"
      ]
     },
     "execution_count": 40,
     "metadata": {},
     "output_type": "execute_result"
    }
   ],
   "source": [
    "ridge_reg = Ridge(alpha=1, solver = \"cholesky\")\n",
    "ridge_reg.fit(scaled_X_train, scaled_y_train)"
   ]
  },
  {
   "cell_type": "code",
   "execution_count": 41,
   "metadata": {},
   "outputs": [],
   "source": [
    "ridge_predictions = ridge_reg.predict(scaled_X_test)\n",
    "ridge_predictions = scaler_y.inverse_transform(ridge_predictions)\n",
    "ridge_mse = mean_squared_error(test_set['EPA (km)'], ridge_predictions)\n",
    "ridge_mae = mean_absolute_error(test_set['EPA (km)'], ridge_predictions)\n",
    "ridge_mape = mean_absolute_percentage_error(test_set['EPA (km)'], ridge_predictions)\n",
    "ridge_r2 = r2_score(test_set['EPA (km)'], ridge_predictions)"
   ]
  },
  {
   "cell_type": "code",
   "execution_count": 42,
   "metadata": {},
   "outputs": [
    {
     "data": {
      "text/plain": [
       "33.54022225359805"
      ]
     },
     "execution_count": 42,
     "metadata": {},
     "output_type": "execute_result"
    }
   ],
   "source": [
    "np.sqrt(ridge_mse)"
   ]
  },
  {
   "cell_type": "code",
   "execution_count": 75,
   "metadata": {},
   "outputs": [
    {
     "data": {
      "text/plain": [
       "15.54227577434836"
      ]
     },
     "execution_count": 75,
     "metadata": {},
     "output_type": "execute_result"
    }
   ],
   "source": [
    "ridge_mae"
   ]
  },
  {
   "cell_type": "code",
   "execution_count": 76,
   "metadata": {},
   "outputs": [
    {
     "data": {
      "text/plain": [
       "0.07155859713186179"
      ]
     },
     "execution_count": 76,
     "metadata": {},
     "output_type": "execute_result"
    }
   ],
   "source": [
    "ridge_mape "
   ]
  },
  {
   "cell_type": "code",
   "execution_count": 77,
   "metadata": {},
   "outputs": [
    {
     "data": {
      "text/plain": [
       "0.9301239307411804"
      ]
     },
     "execution_count": 77,
     "metadata": {},
     "output_type": "execute_result"
    }
   ],
   "source": [
    "ridge_r2"
   ]
  },
  {
   "cell_type": "markdown",
   "metadata": {},
   "source": [
    "## Lasso Regression"
   ]
  },
  {
   "cell_type": "code",
   "execution_count": 43,
   "metadata": {},
   "outputs": [
    {
     "data": {
      "text/plain": [
       "Ridge(alpha=0.1)"
      ]
     },
     "execution_count": 43,
     "metadata": {},
     "output_type": "execute_result"
    }
   ],
   "source": [
    "lasso_reg = Ridge(alpha=0.1)\n",
    "lasso_reg.fit(scaled_X_train, scaled_y_train)"
   ]
  },
  {
   "cell_type": "code",
   "execution_count": 44,
   "metadata": {},
   "outputs": [],
   "source": [
    "lasso_predictions = lasso_reg.predict(scaled_X_test)\n",
    "lasso_predictions = scaler_y.inverse_transform(lasso_predictions)\n",
    "lasso_mse = mean_squared_error(test_set['EPA (km)'], lasso_predictions)\n",
    "lasso_mae = mean_absolute_error(test_set['EPA (km)'], lasso_predictions)\n",
    "lasso_mape = mean_absolute_percentage_error(test_set['EPA (km)'], lasso_predictions)\n",
    "lasso_r2 = r2_score(test_set['EPA (km)'], lasso_predictions)"
   ]
  },
  {
   "cell_type": "code",
   "execution_count": 45,
   "metadata": {},
   "outputs": [
    {
     "data": {
      "text/plain": [
       "33.08404302848651"
      ]
     },
     "execution_count": 45,
     "metadata": {},
     "output_type": "execute_result"
    }
   ],
   "source": [
    "np.sqrt(lasso_mse)"
   ]
  },
  {
   "cell_type": "code",
   "execution_count": 46,
   "metadata": {},
   "outputs": [
    {
     "data": {
      "text/plain": [
       "23.57040736693983"
      ]
     },
     "execution_count": 46,
     "metadata": {},
     "output_type": "execute_result"
    }
   ],
   "source": [
    "lasso_mae"
   ]
  },
  {
   "cell_type": "code",
   "execution_count": 47,
   "metadata": {},
   "outputs": [
    {
     "data": {
      "text/plain": [
       "0.06720925872525914"
      ]
     },
     "execution_count": 47,
     "metadata": {},
     "output_type": "execute_result"
    }
   ],
   "source": [
    "lasso_mape"
   ]
  },
  {
   "cell_type": "code",
   "execution_count": 83,
   "metadata": {},
   "outputs": [
    {
     "data": {
      "text/plain": [
       "0.9320118154827979"
      ]
     },
     "execution_count": 83,
     "metadata": {},
     "output_type": "execute_result"
    }
   ],
   "source": [
    "lasso_r2"
   ]
  },
  {
   "cell_type": "markdown",
   "metadata": {},
   "source": [
    "## Elastic Net"
   ]
  },
  {
   "cell_type": "code",
   "execution_count": 49,
   "metadata": {},
   "outputs": [
    {
     "data": {
      "text/plain": [
       "ElasticNet(alpha=0.1)"
      ]
     },
     "execution_count": 49,
     "metadata": {},
     "output_type": "execute_result"
    }
   ],
   "source": [
    "elastic_net = ElasticNet(alpha=0.1, l1_ratio=0.5)\n",
    "elastic_net.fit(scaled_X_train, scaled_y_train)"
   ]
  },
  {
   "cell_type": "code",
   "execution_count": 50,
   "metadata": {},
   "outputs": [],
   "source": [
    "elastic_predictions = elastic_net.predict(scaled_X_test)\n",
    "elastic_predictions = scaler_y.inverse_transform(elastic_predictions)\n",
    "elastic_mse = mean_squared_error(test_set['EPA (km)'], elastic_predictions)\n",
    "elastic_mae = mean_absolute_error(test_set['EPA (km)'], elastic_predictions)\n",
    "elastic_mape = mean_absolute_percentage_error(test_set['EPA (km)'], elastic_predictions)\n",
    "elastic_r2 = r2_score(test_set['EPA (km)'], elastic_predictions)"
   ]
  },
  {
   "cell_type": "code",
   "execution_count": 51,
   "metadata": {},
   "outputs": [
    {
     "data": {
      "text/plain": [
       "37.42277870799179"
      ]
     },
     "execution_count": 51,
     "metadata": {},
     "output_type": "execute_result"
    }
   ],
   "source": [
    "np.sqrt(elastic_mse)"
   ]
  },
  {
   "cell_type": "code",
   "execution_count": 52,
   "metadata": {},
   "outputs": [
    {
     "data": {
      "text/plain": [
       "29.674269110092624"
      ]
     },
     "execution_count": 52,
     "metadata": {},
     "output_type": "execute_result"
    }
   ],
   "source": [
    "elastic_mae"
   ]
  },
  {
   "cell_type": "code",
   "execution_count": 53,
   "metadata": {},
   "outputs": [
    {
     "data": {
      "text/plain": [
       "0.08799001139476297"
      ]
     },
     "execution_count": 53,
     "metadata": {},
     "output_type": "execute_result"
    }
   ],
   "source": [
    "elastic_mape"
   ]
  },
  {
   "cell_type": "code",
   "execution_count": 54,
   "metadata": {},
   "outputs": [
    {
     "data": {
      "text/plain": [
       "0.9130207502462218"
      ]
     },
     "execution_count": 54,
     "metadata": {},
     "output_type": "execute_result"
    }
   ],
   "source": [
    "elastic_r2"
   ]
  },
  {
   "cell_type": "markdown",
   "metadata": {},
   "source": [
    "## Non-linear SVR"
   ]
  },
  {
   "cell_type": "code",
   "execution_count": 63,
   "metadata": {},
   "outputs": [
    {
     "name": "stderr",
     "output_type": "stream",
     "text": [
      "C:\\ProgramData\\Anaconda3\\lib\\site-packages\\sklearn\\utils\\validation.py:63: DataConversionWarning: A column-vector y was passed when a 1d array was expected. Please change the shape of y to (n_samples, ), for example using ravel().\n",
      "  return f(*args, **kwargs)\n"
     ]
    },
    {
     "data": {
      "text/plain": [
       "SVR(C=100, degree=1, kernel='linear')"
      ]
     },
     "execution_count": 63,
     "metadata": {},
     "output_type": "execute_result"
    }
   ],
   "source": [
    "svm_poly_reg = SVR(kernel = 'linear', degree = 1, C=100, epsilon = 0.1)\n",
    "svm_poly_reg.fit(scaled_X_train, scaled_y_train)"
   ]
  },
  {
   "cell_type": "code",
   "execution_count": 64,
   "metadata": {},
   "outputs": [],
   "source": [
    "svr_poly_predictions = svm_poly_reg.predict(scaled_X_test)\n",
    "svr_poly_predictions = scaler_y.inverse_transform(svr_poly_predictions)\n",
    "svr_poly_mse = mean_squared_error(test_set['EPA (km)'], svr_poly_predictions)\n",
    "svr_poly_mae = mean_absolute_error(test_set['EPA (km)'], svr_poly_predictions)\n",
    "svr_poly_mape = mean_absolute_percentage_error(test_set['EPA (km)'], svr_poly_predictions)\n",
    "svr_poly_r2 = r2_score(test_set['EPA (km)'], svr_poly_predictions)"
   ]
  },
  {
   "cell_type": "code",
   "execution_count": 65,
   "metadata": {},
   "outputs": [
    {
     "data": {
      "text/plain": [
       "32.131780202566105"
      ]
     },
     "execution_count": 65,
     "metadata": {},
     "output_type": "execute_result"
    }
   ],
   "source": [
    "np.sqrt(svr_poly_mse)"
   ]
  },
  {
   "cell_type": "code",
   "execution_count": 58,
   "metadata": {},
   "outputs": [
    {
     "data": {
      "text/plain": [
       "22.36695488586879"
      ]
     },
     "execution_count": 58,
     "metadata": {},
     "output_type": "execute_result"
    }
   ],
   "source": [
    "svr_poly_mae"
   ]
  },
  {
   "cell_type": "code",
   "execution_count": 59,
   "metadata": {},
   "outputs": [
    {
     "data": {
      "text/plain": [
       "0.06173999292134034"
      ]
     },
     "execution_count": 59,
     "metadata": {},
     "output_type": "execute_result"
    }
   ],
   "source": [
    "svr_poly_mape"
   ]
  },
  {
   "cell_type": "code",
   "execution_count": 60,
   "metadata": {},
   "outputs": [
    {
     "data": {
      "text/plain": [
       "0.9386551924777684"
      ]
     },
     "execution_count": 60,
     "metadata": {},
     "output_type": "execute_result"
    }
   ],
   "source": [
    "svr_poly_r2"
   ]
  },
  {
   "cell_type": "markdown",
   "metadata": {},
   "source": [
    "# Further Analysis"
   ]
  },
  {
   "cell_type": "code",
   "execution_count": 61,
   "metadata": {},
   "outputs": [
    {
     "data": {
      "text/plain": [
       "364.5421237321719"
      ]
     },
     "execution_count": 61,
     "metadata": {},
     "output_type": "execute_result"
    }
   ],
   "source": [
    "test_set['EPA (km)'].mean()"
   ]
  },
  {
   "cell_type": "code",
   "execution_count": 62,
   "metadata": {},
   "outputs": [
    {
     "data": {
      "text/plain": [
       "0.08621233098343364"
      ]
     },
     "execution_count": 62,
     "metadata": {},
     "output_type": "execute_result"
    }
   ],
   "source": [
    "avg_range = test_set['EPA (km)'].mean()\n",
    "np.sqrt(svr_poly_mse)/avg_range"
   ]
  },
  {
   "cell_type": "code",
   "execution_count": null,
   "metadata": {},
   "outputs": [],
   "source": []
  }
 ],
 "metadata": {
  "kernelspec": {
   "display_name": "Python 3 (ipykernel)",
   "language": "python",
   "name": "python3"
  },
  "language_info": {
   "codemirror_mode": {
    "name": "ipython",
    "version": 3
   },
   "file_extension": ".py",
   "mimetype": "text/x-python",
   "name": "python",
   "nbconvert_exporter": "python",
   "pygments_lexer": "ipython3",
   "version": "3.9.7"
  }
 },
 "nbformat": 4,
 "nbformat_minor": 4
}
