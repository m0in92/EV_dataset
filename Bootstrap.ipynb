{
 "cells": [
  {
   "cell_type": "code",
   "execution_count": 7,
   "metadata": {},
   "outputs": [],
   "source": [
    "import numpy as np\n",
    "import pandas as pd\n",
    "import glob\n",
    "import matplotlib.pyplot as plt"
   ]
  },
  {
   "cell_type": "code",
   "execution_count": 8,
   "metadata": {},
   "outputs": [],
   "source": [
    "def get_linear_reg_params(X, y, predict = False):\n",
    "    \"\"\"\n",
    "    This function obtains the linear regression parameters using the normal equation\n",
    "    Inputs:\n",
    "    1. X: vector of regressors\n",
    "    2. y: vector of responses\n",
    "    Returns:\n",
    "    The vector of linear regression parameters\n",
    "    \"\"\"\n",
    "    X = np.c_[np.ones((len(X),1)), X] # add 1 to each value of x-vector\n",
    "    theta = np.linalg.inv(X.T.dot(X)).dot(X.T).dot(y)\n",
    "    if predict == True:\n",
    "        y_pred = X.dot(theta)\n",
    "        residual = y - y_pred\n",
    "        return theta, y_pred, residual\n",
    "    else:\n",
    "        return theta"
   ]
  },
  {
   "cell_type": "code",
   "execution_count": 9,
   "metadata": {},
   "outputs": [],
   "source": [
    "def predict(X, theta):\n",
    "    \"\"\"\n",
    "    This function returns the predicted response values from X\n",
    "    Inputs:\n",
    "    1. X: vector of regressors\n",
    "    2. theta: vector of linear regression parameters\n",
    "    Returns:\n",
    "    The predicted response\n",
    "    \"\"\"\n",
    "    X = np.c_[np.ones((len(X),1)), X] # add 1 to each value of x-vector\n",
    "    y_pred = X.dot(theta)\n",
    "    return y_pred"
   ]
  },
  {
   "cell_type": "code",
   "execution_count": 10,
   "metadata": {},
   "outputs": [],
   "source": [
    "def mi_to_km(item):\n",
    "    return 1.60934*item"
   ]
  },
  {
   "cell_type": "code",
   "execution_count": 11,
   "metadata": {},
   "outputs": [
    {
     "data": {
      "text/plain": [
       "'\\nVariables and their response\\n\\ndf: original DataFrame\\ncom_df: Dataframe with completed X and y values\\nincomp_df: DataFrame with complete X values and no y values\\n\\ncomp_X: X vector with complete dataframe\\ncomp_y: y vector with complete dataframe\\nincomp_X: X vector from incomplete dataframe\\nincomp_y_pred: vector of y_pred from incomplete dataframe\\nincomp_y_actual: vector of y_actual from incomplete dataframe calculated from y_actual = residuals + y_pred\\nall_X: vector of X from complete and incomplete dataframe\\nall_y: vector of y from complete and incomplete dataframe(after calculation from residuals)\\n\\ncom_params: linear regression parameters from the complete dataframe\\ncom_ypred: vector of y predictions from the complete dataset\\nresiduals: vector of residual from the complete dataframe\\n'"
      ]
     },
     "execution_count": 11,
     "metadata": {},
     "output_type": "execute_result"
    }
   ],
   "source": [
    "\"\"\"\n",
    "Variables and their response\n",
    "\n",
    "df: original DataFrame\n",
    "com_df: Dataframe with completed X and y values\n",
    "incomp_df: DataFrame with complete X values and no y values\n",
    "\n",
    "comp_X: X vector with complete dataframe\n",
    "comp_y: y vector with complete dataframe\n",
    "incomp_X: X vector from incomplete dataframe\n",
    "incomp_y_pred: vector of y_pred from incomplete dataframe\n",
    "incomp_y_actual: vector of y_actual from incomplete dataframe calculated from y_actual = residuals + y_pred\n",
    "all_X: vector of X from complete and incomplete dataframe\n",
    "all_y: vector of y from complete and incomplete dataframe(after calculation from residuals)\n",
    "\n",
    "com_params: linear regression parameters from the complete dataframe\n",
    "com_ypred: vector of y predictions from the complete dataset\n",
    "residuals: vector of residual from the complete dataframe\n",
    "\"\"\""
   ]
  },
  {
   "cell_type": "markdown",
   "metadata": {},
   "source": [
    "# EPA and WLTP"
   ]
  },
  {
   "cell_type": "code",
   "execution_count": 38,
   "metadata": {},
   "outputs": [],
   "source": [
    "#Extract and create dataframes\n",
    "df = pd.read_excel('bootstrap.xlsx')\n",
    "comp_df = df[['WLTP', 'EPA']].dropna()\n",
    "incomp_df = df[['WLTP', 'EPA']].dropna(how = 'all')\n",
    "incomp_df = incomp_df[incomp_df['EPA'].isna()]"
   ]
  },
  {
   "cell_type": "code",
   "execution_count": 39,
   "metadata": {},
   "outputs": [],
   "source": [
    "# miles to km\n",
    "comp_df = comp_df.apply(lambda x: mi_to_km(x))\n",
    "incomp_df = incomp_df.apply(lambda x: mi_to_km(x))"
   ]
  },
  {
   "cell_type": "code",
   "execution_count": 40,
   "metadata": {},
   "outputs": [],
   "source": [
    "#Extract complete X and y numpy array from dataframe\n",
    "comp_X = comp_df['WLTP'].to_numpy()\n",
    "comp_y = comp_df['EPA'].to_numpy()\n",
    "\n",
    "incomp_X = incomp_df['WLTP'].to_numpy()"
   ]
  },
  {
   "cell_type": "code",
   "execution_count": 41,
   "metadata": {},
   "outputs": [],
   "source": [
    "#Calculate the linear regression, predicted y values, and residuals for complete data\n",
    "com_params, com_ypred, residuals = get_linear_reg_params(comp_X, comp_y, predict = True)"
   ]
  },
  {
   "cell_type": "code",
   "execution_count": 42,
   "metadata": {},
   "outputs": [
    {
     "data": {
      "text/plain": [
       "array([-57.18571067,   1.05622785])"
      ]
     },
     "execution_count": 42,
     "metadata": {},
     "output_type": "execute_result"
    }
   ],
   "source": [
    "com_params"
   ]
  },
  {
   "cell_type": "code",
   "execution_count": 43,
   "metadata": {},
   "outputs": [],
   "source": [
    "np.random.seed(0)"
   ]
  },
  {
   "cell_type": "code",
   "execution_count": 44,
   "metadata": {},
   "outputs": [],
   "source": [
    "theta0_list = []\n",
    "theta1_list = []\n",
    "iter_list = []\n",
    "for i in range(2000):\n",
    "    #Create a random list of residual with replacement with the size of incompete\n",
    "    random_residual_list = np.random.choice(residuals, size = len(incomp_df), replace = True)\n",
    "\n",
    "    #Calculate the y_actual from the incomplete dataframe using residuals\n",
    "    incomp_y_actual = predict(incomp_X, com_params) + random_residual_list\n",
    "\n",
    "    #Combine X and y from complete and incomplete dataframe and get linear regression parameters\n",
    "    all_X = np.concatenate((comp_X, incomp_X))\n",
    "    all_y = np.concatenate((comp_y, incomp_y_actual))\n",
    "    all_params = get_linear_reg_params(all_X, all_y, predict = False)\n",
    "    theta0 = all_params[0]\n",
    "    theta1 = all_params[1]\n",
    "    iter_list.append(i+1)\n",
    "    theta0_list.append(theta0)\n",
    "    theta1_list.append(theta1)"
   ]
  },
  {
   "cell_type": "code",
   "execution_count": 45,
   "metadata": {},
   "outputs": [],
   "source": [
    "result_dict = {'iteration':iter_list,\n",
    " 'theta0':theta0_list,\n",
    "'theta1':theta1_list}"
   ]
  },
  {
   "cell_type": "code",
   "execution_count": 46,
   "metadata": {},
   "outputs": [],
   "source": [
    "results = pd.DataFrame(result_dict)"
   ]
  },
  {
   "cell_type": "code",
   "execution_count": 47,
   "metadata": {},
   "outputs": [],
   "source": [
    "def special_mean(x,col):\n",
    "    s_mean = np.mean(results.iloc[0:(x.name+1)][col])\n",
    "    return s_mean"
   ]
  },
  {
   "cell_type": "code",
   "execution_count": 48,
   "metadata": {},
   "outputs": [],
   "source": [
    "results['theta0_mean'] = results.apply(lambda x:special_mean(x,'theta0'), axis = 1)"
   ]
  },
  {
   "cell_type": "code",
   "execution_count": 49,
   "metadata": {},
   "outputs": [],
   "source": [
    "results['theta1_mean'] = results.apply(lambda x:special_mean(x,'theta1'), axis = 1)"
   ]
  },
  {
   "cell_type": "code",
   "execution_count": 50,
   "metadata": {},
   "outputs": [],
   "source": [
    "results.to_excel('bootstrap_results-2000iterations.xlsx')"
   ]
  },
  {
   "cell_type": "code",
   "execution_count": 51,
   "metadata": {},
   "outputs": [
    {
     "data": {
      "image/png": "[encoded data removed]",
      "text/plain": [
       "<Figure size 720x360 with 2 Axes>"
      ]
     },
     "metadata": {
      "needs_background": "light"
     },
     "output_type": "display_data"
    }
   ],
   "source": [
    "fig = plt.figure(figsize = (10,5))\n",
    "\n",
    "ax1 = fig.add_subplot(1,2,1)\n",
    "ax1.scatter(results['iteration'],results['theta0_mean'])\n",
    "plt.xlabel('iterations', fontweight = 'bold', fontsize = 'x-large')\n",
    "plt.ylabel('y-intercept', fontweight = 'bold', fontsize = 'x-large')\n",
    "plt.xticks(fontsize=14)\n",
    "plt.yticks(fontsize=14)\n",
    "\n",
    "ax2 = fig.add_subplot(1,2,2)\n",
    "ax2.scatter(results['iteration'],results['theta1_mean'])\n",
    "plt.xlabel('iterations', fontweight = 'bold', fontsize = 'x-large')\n",
    "plt.ylabel('coefficient', fontweight = 'bold', fontsize = 'x-large')\n",
    "plt.xticks(fontsize=14)\n",
    "plt.yticks(fontsize=14)\n",
    "\n",
    "plt.tight_layout()"
   ]
  },
  {
   "cell_type": "code",
   "execution_count": 53,
   "metadata": {},
   "outputs": [
    {
     "data": {
      "image/png": "[encoded data removed]",
      "text/plain": [
       "<Figure size 1440x360 with 2 Axes>"
      ]
     },
     "metadata": {
      "needs_background": "light"
     },
     "output_type": "display_data"
    }
   ],
   "source": [
    "fig = plt.figure(figsize = (20,5))\n",
    "\n",
    "color = 'tab:blue'\n",
    "ax1 = fig.add_subplot(1,2,1)\n",
    "ax1.scatter(results['iteration'],results['theta0_mean'])\n",
    "plt.xlabel('iterations', fontweight = 'bold', fontsize = 'x-large')\n",
    "plt.ylabel('y-intercept', fontweight = 'bold', fontsize = 'x-large', color =color)\n",
    "plt.xticks(fontsize=14)\n",
    "plt.yticks(fontsize=14)\n",
    "\n",
    "ax2 = ax1.twinx()\n",
    "color = 'tab:red'\n",
    "ax2.scatter(results['iteration'],results['theta1_mean'], color = color)\n",
    "plt.ylabel('coefficient', fontweight = 'bold', fontsize = 'x-large', color = color)\n",
    "plt.xticks(fontsize=14)\n",
    "plt.yticks(fontsize=14)\n",
    "\n",
    "plt.tight_layout()"
   ]
  },
  {
   "cell_type": "markdown",
   "metadata": {},
   "source": [
    "# EPA and NEDC"
   ]
  },
  {
   "cell_type": "code",
   "execution_count": 70,
   "metadata": {},
   "outputs": [],
   "source": [
    "#Extract and create dataframes\n",
    "df = pd.read_excel('bootstrap.xlsx')\n",
    "comp_df = df[['NEDC', 'EPA']].dropna()\n",
    "incomp_df = df[['NEDC', 'EPA']].dropna(how = 'all')\n",
    "incomp_df = incomp_df[incomp_df['EPA'].isna()]"
   ]
  },
  {
   "cell_type": "code",
   "execution_count": 71,
   "metadata": {},
   "outputs": [],
   "source": [
    "# miles to km\n",
    "comp_df = comp_df.apply(lambda x: mi_to_km(x))\n",
    "incomp_df = incomp_df.apply(lambda x: mi_to_km(x))"
   ]
  },
  {
   "cell_type": "code",
   "execution_count": 72,
   "metadata": {},
   "outputs": [],
   "source": [
    "#Extract complete X and y numpy array from dataframe\n",
    "comp_X = comp_df['NEDC'].to_numpy()\n",
    "comp_y = comp_df['EPA'].to_numpy()\n",
    "\n",
    "incomp_X = incomp_df['NEDC'].to_numpy()"
   ]
  },
  {
   "cell_type": "code",
   "execution_count": 73,
   "metadata": {},
   "outputs": [],
   "source": [
    "#Calculate the linear regression, predicted y values, and residuals for complete data\n",
    "com_params, com_ypred, residuals = get_linear_reg_params(comp_X, comp_y, predict = True)"
   ]
  },
  {
   "cell_type": "code",
   "execution_count": 74,
   "metadata": {},
   "outputs": [
    {
     "data": {
      "text/plain": [
       "array([-61.52656838,   0.96911513])"
      ]
     },
     "execution_count": 74,
     "metadata": {},
     "output_type": "execute_result"
    }
   ],
   "source": [
    "com_params"
   ]
  },
  {
   "cell_type": "code",
   "execution_count": 75,
   "metadata": {},
   "outputs": [],
   "source": [
    "np.random.seed(0)"
   ]
  },
  {
   "cell_type": "code",
   "execution_count": 76,
   "metadata": {},
   "outputs": [],
   "source": [
    "theta0_list = []\n",
    "theta1_list = []\n",
    "iter_list = []\n",
    "for i in range(2000):\n",
    "    #Create a random list of residual with replacement with the size of incompete\n",
    "    random_residual_list = np.random.choice(residuals, size = len(incomp_df), replace = True)\n",
    "\n",
    "    #Calculate the y_actual from the incomplete dataframe using residuals\n",
    "    incomp_y_actual = predict(incomp_X, com_params) + random_residual_list\n",
    "\n",
    "    #Combine X and y from complete and incomplete dataframe and get linear regression parameters\n",
    "    all_X = np.concatenate((comp_X, incomp_X))\n",
    "    all_y = np.concatenate((comp_y, incomp_y_actual))\n",
    "    all_params = get_linear_reg_params(all_X, all_y, predict = False)\n",
    "    theta0 = all_params[0]\n",
    "    theta1 = all_params[1]\n",
    "    iter_list.append(i+1)\n",
    "    theta0_list.append(theta0)\n",
    "    theta1_list.append(theta1)"
   ]
  },
  {
   "cell_type": "code",
   "execution_count": 77,
   "metadata": {},
   "outputs": [],
   "source": [
    "result_dict = {'iteration':iter_list,\n",
    " 'theta0':theta0_list,\n",
    "'theta1':theta1_list}"
   ]
  },
  {
   "cell_type": "code",
   "execution_count": 78,
   "metadata": {},
   "outputs": [],
   "source": [
    "results = pd.DataFrame(result_dict)"
   ]
  },
  {
   "cell_type": "code",
   "execution_count": 79,
   "metadata": {},
   "outputs": [],
   "source": [
    "def special_mean(x,col):\n",
    "    s_mean = np.mean(results.iloc[0:(x.name+1)][col])\n",
    "    return s_mean"
   ]
  },
  {
   "cell_type": "code",
   "execution_count": 80,
   "metadata": {},
   "outputs": [],
   "source": [
    "results['theta0_mean'] = results.apply(lambda x:special_mean(x,'theta0'), axis = 1)"
   ]
  },
  {
   "cell_type": "code",
   "execution_count": 81,
   "metadata": {},
   "outputs": [],
   "source": [
    "results['theta1_mean'] = results.apply(lambda x:special_mean(x,'theta1'), axis = 1)"
   ]
  },
  {
   "cell_type": "code",
   "execution_count": 82,
   "metadata": {},
   "outputs": [
    {
     "data": {
      "text/html": [
       "<div>\n",
       "<style scoped>\n",
       "    .dataframe tbody tr th:only-of-type {\n",
       "        vertical-align: middle;\n",
       "    }\n",
       "\n",
       "    .dataframe tbody tr th {\n",
       "        vertical-align: top;\n",
       "    }\n",
       "\n",
       "    .dataframe thead th {\n",
       "        text-align: right;\n",
       "    }\n",
       "</style>\n",
       "<table border=\"1\" class=\"dataframe\">\n",
       "  <thead>\n",
       "    <tr style=\"text-align: right;\">\n",
       "      <th></th>\n",
       "      <th>iteration</th>\n",
       "      <th>theta0</th>\n",
       "      <th>theta1</th>\n",
       "      <th>theta0_mean</th>\n",
       "      <th>theta1_mean</th>\n",
       "    </tr>\n",
       "  </thead>\n",
       "  <tbody>\n",
       "    <tr>\n",
       "      <th>0</th>\n",
       "      <td>1</td>\n",
       "      <td>-61.407541</td>\n",
       "      <td>0.971160</td>\n",
       "      <td>-61.407541</td>\n",
       "      <td>0.971160</td>\n",
       "    </tr>\n",
       "    <tr>\n",
       "      <th>1</th>\n",
       "      <td>2</td>\n",
       "      <td>-61.176959</td>\n",
       "      <td>0.967208</td>\n",
       "      <td>-61.292250</td>\n",
       "      <td>0.969184</td>\n",
       "    </tr>\n",
       "    <tr>\n",
       "      <th>2</th>\n",
       "      <td>3</td>\n",
       "      <td>-61.509353</td>\n",
       "      <td>0.967732</td>\n",
       "      <td>-61.364618</td>\n",
       "      <td>0.968700</td>\n",
       "    </tr>\n",
       "    <tr>\n",
       "      <th>3</th>\n",
       "      <td>4</td>\n",
       "      <td>-61.835177</td>\n",
       "      <td>0.970114</td>\n",
       "      <td>-61.482258</td>\n",
       "      <td>0.969053</td>\n",
       "    </tr>\n",
       "    <tr>\n",
       "      <th>4</th>\n",
       "      <td>5</td>\n",
       "      <td>-60.610365</td>\n",
       "      <td>0.969148</td>\n",
       "      <td>-61.307879</td>\n",
       "      <td>0.969072</td>\n",
       "    </tr>\n",
       "    <tr>\n",
       "      <th>...</th>\n",
       "      <td>...</td>\n",
       "      <td>...</td>\n",
       "      <td>...</td>\n",
       "      <td>...</td>\n",
       "      <td>...</td>\n",
       "    </tr>\n",
       "    <tr>\n",
       "      <th>1995</th>\n",
       "      <td>1996</td>\n",
       "      <td>-62.106444</td>\n",
       "      <td>0.969304</td>\n",
       "      <td>-61.539946</td>\n",
       "      <td>0.969127</td>\n",
       "    </tr>\n",
       "    <tr>\n",
       "      <th>1996</th>\n",
       "      <td>1997</td>\n",
       "      <td>-60.967556</td>\n",
       "      <td>0.969481</td>\n",
       "      <td>-61.539659</td>\n",
       "      <td>0.969127</td>\n",
       "    </tr>\n",
       "    <tr>\n",
       "      <th>1997</th>\n",
       "      <td>1998</td>\n",
       "      <td>-61.643721</td>\n",
       "      <td>0.969042</td>\n",
       "      <td>-61.539711</td>\n",
       "      <td>0.969127</td>\n",
       "    </tr>\n",
       "    <tr>\n",
       "      <th>1998</th>\n",
       "      <td>1999</td>\n",
       "      <td>-61.338773</td>\n",
       "      <td>0.967458</td>\n",
       "      <td>-61.539611</td>\n",
       "      <td>0.969126</td>\n",
       "    </tr>\n",
       "    <tr>\n",
       "      <th>1999</th>\n",
       "      <td>2000</td>\n",
       "      <td>-62.817354</td>\n",
       "      <td>0.971324</td>\n",
       "      <td>-61.540250</td>\n",
       "      <td>0.969127</td>\n",
       "    </tr>\n",
       "  </tbody>\n",
       "</table>\n",
       "<p>2000 rows × 5 columns</p>\n",
       "</div>"
      ],
      "text/plain": [
       "      iteration     theta0    theta1  theta0_mean  theta1_mean\n",
       "0             1 -61.407541  0.971160   -61.407541     0.971160\n",
       "1             2 -61.176959  0.967208   -61.292250     0.969184\n",
       "2             3 -61.509353  0.967732   -61.364618     0.968700\n",
       "3             4 -61.835177  0.970114   -61.482258     0.969053\n",
       "4             5 -60.610365  0.969148   -61.307879     0.969072\n",
       "...         ...        ...       ...          ...          ...\n",
       "1995       1996 -62.106444  0.969304   -61.539946     0.969127\n",
       "1996       1997 -60.967556  0.969481   -61.539659     0.969127\n",
       "1997       1998 -61.643721  0.969042   -61.539711     0.969127\n",
       "1998       1999 -61.338773  0.967458   -61.539611     0.969126\n",
       "1999       2000 -62.817354  0.971324   -61.540250     0.969127\n",
       "\n",
       "[2000 rows x 5 columns]"
      ]
     },
     "execution_count": 82,
     "metadata": {},
     "output_type": "execute_result"
    }
   ],
   "source": [
    "results"
   ]
  },
  {
   "cell_type": "code",
   "execution_count": 83,
   "metadata": {},
   "outputs": [],
   "source": [
    "results.to_excel('bootstrap_results-NEDC-2000iterations.xlsx', index=False)"
   ]
  },
  {
   "cell_type": "code",
   "execution_count": 84,
   "metadata": {},
   "outputs": [
    {
     "data": {
      "image/png": "[encoded data removed]",
      "text/plain": [
       "<Figure size 720x360 with 2 Axes>"
      ]
     },
     "metadata": {
      "needs_background": "light"
     },
     "output_type": "display_data"
    }
   ],
   "source": [
    "fig = plt.figure(figsize = (10,5))\n",
    "\n",
    "ax1 = fig.add_subplot(1,2,1)\n",
    "ax1.scatter(results['iteration'],results['theta0_mean'])\n",
    "plt.xlabel('iterations', fontweight = 'bold', fontsize = 'large')\n",
    "plt.ylabel('y-intercept', fontweight = 'bold', fontsize = 'large')\n",
    "\n",
    "ax2 = fig.add_subplot(1,2,2)\n",
    "ax2.scatter(results['iteration'],results['theta1_mean'])\n",
    "plt.xlabel('iterations', fontweight = 'bold', fontsize = 'large')\n",
    "plt.ylabel('coefficient', fontweight = 'bold', fontsize = 'large')\n",
    "\n",
    "#plt.title('EPA[mi] vs. NEDC[mi]', loc='center', fontsize = 20)\n",
    "\n",
    "plt.tight_layout()"
   ]
  },
  {
   "cell_type": "code",
   "execution_count": 85,
   "metadata": {},
   "outputs": [
    {
     "data": {
      "image/png": "[encoded data removed]",
      "text/plain": [
       "<Figure size 1440x360 with 2 Axes>"
      ]
     },
     "metadata": {
      "needs_background": "light"
     },
     "output_type": "display_data"
    }
   ],
   "source": [
    "fig = plt.figure(figsize = (20,5))\n",
    "\n",
    "color = 'tab:blue'\n",
    "ax1 = fig.add_subplot(1,2,1)\n",
    "ax1.scatter(results['iteration'],results['theta0_mean'])\n",
    "#ax1.tick_params(labelcolor=color)\n",
    "plt.xlabel('iterations', fontweight = 'bold', fontsize = 'x-large')\n",
    "plt.ylabel('y-intercept', fontweight = 'bold', fontsize = 'x-large', color =color)\n",
    "plt.xticks(fontsize=14)\n",
    "plt.yticks(fontsize=14)\n",
    "\n",
    "ax2 = ax1.twinx()\n",
    "color = 'tab:red'\n",
    "# ax2 = fig.add_subplot(1,2,2)\n",
    "ax2.scatter(results['iteration'],results['theta1_mean'], color = color)\n",
    "#lt.xlabel('iterations', fontweight = 'bold', fontsize = 'x-large')\n",
    "#ax2.tick_params(labelcolor=color)\n",
    "plt.ylabel('coefficient', fontweight = 'bold', fontsize = 'x-large', color = color)\n",
    "plt.xticks(fontsize=14)\n",
    "plt.yticks(fontsize=14)\n",
    "\n",
    "#plt.title('EPA[mi] vs. NEDC[mi]', loc='center', fontsize = 20)\n",
    "\n",
    "plt.tight_layout()"
   ]
  },
  {
   "cell_type": "code",
   "execution_count": null,
   "metadata": {},
   "outputs": [],
   "source": []
  }
 ],
 "metadata": {
  "kernelspec": {
   "display_name": "Python 3 (ipykernel)",
   "language": "python",
   "name": "python3"
  },
  "language_info": {
   "codemirror_mode": {
    "name": "ipython",
    "version": 3
   },
   "file_extension": ".py",
   "mimetype": "text/x-python",
   "name": "python",
   "nbconvert_exporter": "python",
   "pygments_lexer": "ipython3",
   "version": "3.9.7"
  }
 },
 "nbformat": 4,
 "nbformat_minor": 4
}
