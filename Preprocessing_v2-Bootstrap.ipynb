{
 "cells": [
  {
   "cell_type": "code",
   "execution_count": 1,
   "metadata": {},
   "outputs": [],
   "source": [
    "import numpy as np\n",
    "import pandas as pd\n",
    "import os\n",
    "import glob\n",
    "import matplotlib.pyplot as plt\n",
    "import seaborn as sns\n",
    "from scipy import stats\n",
    "import re\n",
    "from sklearn.linear_model import LinearRegression"
   ]
  },
  {
   "cell_type": "code",
   "execution_count": 2,
   "metadata": {},
   "outputs": [],
   "source": [
    "def remove_units(x):\n",
    "    if type(x) == str:\n",
    "        \"\"\"Find the non-numeric charater and its index number\"\"\"\n",
    "        first_str = [char for char in x if not char.isdigit() and char != '.'][0]\n",
    "        index_no = x.find(first_str)\n",
    "        \n",
    "        \"\"\"Find the non-numeric charater and its index number\"\"\"\n",
    "        return float(x[:index_no])"
   ]
  },
  {
   "cell_type": "code",
   "execution_count": 3,
   "metadata": {},
   "outputs": [],
   "source": [
    "def get_epa_estimate_param(x, y):\n",
    "    df_epa = df1[[x,y]].dropna()\n",
    "    y = np.array(df_epa[y]).reshape(-1,1)\n",
    "    x = np.array(df_epa[x]).reshape(-1,1)\n",
    "    reg1 = LinearRegression()\n",
    "    reg1.fit(x,y)\n",
    "    return reg1.coef_, reg1.intercept_"
   ]
  },
  {
   "cell_type": "code",
   "execution_count": 4,
   "metadata": {},
   "outputs": [],
   "source": [
    "def get_epa_estimate(item):\n",
    "    if np.isnan(item[0]) and ~np.isnan(item[1]):\n",
    "        return coefficient * item[1] + yintercept\n",
    "    else:\n",
    "        return item[0]"
   ]
  },
  {
   "cell_type": "code",
   "execution_count": 5,
   "metadata": {},
   "outputs": [],
   "source": [
    "def mi_to_km(item):\n",
    "    return 1.60934*item"
   ]
  },
  {
   "cell_type": "code",
   "execution_count": 6,
   "metadata": {},
   "outputs": [],
   "source": [
    "FILENAME = glob.glob('output_new.*')[0]"
   ]
  },
  {
   "cell_type": "code",
   "execution_count": 7,
   "metadata": {},
   "outputs": [],
   "source": [
    "df = pd.read_excel(FILENAME, index_col=0)"
   ]
  },
  {
   "cell_type": "code",
   "execution_count": 8,
   "metadata": {},
   "outputs": [],
   "source": [
    "df_range = df[['WLTP (Worldwide harmonized Light vehicles Test Procedure)','EPA (Electric car range and efficiency)']].dropna()"
   ]
  },
  {
   "cell_type": "code",
   "execution_count": 9,
   "metadata": {},
   "outputs": [],
   "source": [
    "df_range = df_range[['WLTP (Worldwide harmonized Light vehicles Test Procedure)','EPA (Electric car range and efficiency)']].applymap(lambda x:remove_units(x))"
   ]
  },
  {
   "cell_type": "code",
   "execution_count": 10,
   "metadata": {},
   "outputs": [],
   "source": [
    "df_range.rename(columns = {'WLTP (Worldwide harmonized Light vehicles Test Procedure)': 'WLTP [mi]',\n",
    "                          'EPA (Electric car range and efficiency)': 'EPA [mi]'}, inplace = True)"
   ]
  },
  {
   "cell_type": "code",
   "execution_count": 11,
   "metadata": {},
   "outputs": [],
   "source": [
    "# g = sns.jointplot(x = 'EPA [mi]', y = 'WLTP [mi]', kind = 'reg', data = df_range)\n",
    "\n",
    "# def annotate(data, **kws):\n",
    "#     r, p = stats.pearsonr(df_range['EPA [mi]'], df_range['WLTP [mi]'])\n",
    "#     ax = plt.gca()\n",
    "#     ax.text(.05, .8, 'r={:.2f}, EPA={:.2g}'.format(r, p),\n",
    "#             transform=ax.transAxes)\n",
    "    \n",
    "# g.map_dataframe(annotate)\n",
    "# plt.xlabel('EPA [mi]', fontweight='bold', fontsize = 'large')\n",
    "# plt.ylabel('WLTP [mi]', fontweight='bold', fontsize = 'large')\n",
    "# plt.show()"
   ]
  },
  {
   "cell_type": "code",
   "execution_count": 12,
   "metadata": {},
   "outputs": [
    {
     "data": {
      "text/plain": [
       "<seaborn.axisgrid.FacetGrid at 0x273eba349a0>"
      ]
     },
     "execution_count": 12,
     "metadata": {},
     "output_type": "execute_result"
    },
    {
     "data": {
      "image/png": "[encoded data removed]",
      "text/plain": [
       "<Figure size 360x360 with 1 Axes>"
      ]
     },
     "metadata": {
      "needs_background": "light"
     },
     "output_type": "display_data"
    }
   ],
   "source": [
    "sns.displot(df_range, x=\"EPA [mi]\", binwidth=25)"
   ]
  },
  {
   "cell_type": "code",
   "execution_count": 13,
   "metadata": {},
   "outputs": [
    {
     "data": {
      "text/plain": [
       "<AxesSubplot:xlabel='WLTP [mi]', ylabel='Count'>"
      ]
     },
     "execution_count": 13,
     "metadata": {},
     "output_type": "execute_result"
    },
    {
     "data": {
      "image/png": "[encoded data removed]",
      "text/plain": [
       "<Figure size 432x288 with 1 Axes>"
      ]
     },
     "metadata": {
      "needs_background": "light"
     },
     "output_type": "display_data"
    }
   ],
   "source": [
    "sns.histplot(df_range, x='WLTP [mi]', binwidth=25)"
   ]
  },
  {
   "cell_type": "code",
   "execution_count": 14,
   "metadata": {},
   "outputs": [
    {
     "data": {
      "text/plain": [
       "Index(['Brand', 'Model', 'Model year', 'Market', 'Price', 'Trim',\n",
       "       'Model alias', 'Series', 'Type of rechargeable battery',\n",
       "       'Battery capacity', 'Number of cells', 'Number of modules', 'Voltage',\n",
       "       'Weight', 'Volume', 'Location', 'Cooling', 'Manufacturer',\n",
       "       'Energy density', 'Minimum ambient temperature',\n",
       "       'Maximum ambient temperature', 'Top speed',\n",
       "       'Acceleration from 0 to 100 km/h', 'Acceleration from 0 to 60 mph',\n",
       "       'Acceleration from 80 to 120 km/h', 'Body style', 'Materials',\n",
       "       'Exterior colors', 'Interior colors', 'Number of doors',\n",
       "       'Number of seats', 'Length', 'Width', 'Height', 'Wheelbase',\n",
       "       'Front track', 'Rear track', 'Minimum clearance', 'Front legroom',\n",
       "       'Rear legroom', 'Trunk volume', 'Maximum trunk volume', 'Curb weight',\n",
       "       'Payload', 'GVWR', 'Drag coefficient',\n",
       "       'WLTP (Worldwide harmonized Light vehicles Test Procedure)',\n",
       "       'EPA (Electric car range and efficiency)',\n",
       "       'NEDC (New European Driving Cycle)', 'Real range',\n",
       "       'Width with folded mirrors', 'Clearance', 'Front headroom',\n",
       "       'Rear headroom', 'Front shoulder room', 'Rear shoulder room',\n",
       "       'Secondary trunk volume', 'Width with mirrors', 'Passenger volume',\n",
       "       'Front hip room', 'Rear hip room', 'Total volume', 'Maximum clearance',\n",
       "       'Source'],\n",
       "      dtype='object')"
      ]
     },
     "execution_count": 14,
     "metadata": {},
     "output_type": "execute_result"
    }
   ],
   "source": [
    "df.columns"
   ]
  },
  {
   "cell_type": "code",
   "execution_count": 15,
   "metadata": {},
   "outputs": [],
   "source": [
    "cols_to_include = ['Model year','Type of rechargeable battery',\n",
    "                   'Battery capacity', 'Number of cells', \n",
    "                   'Number of modules', 'Voltage',\n",
    "                   'Cooling', 'Top speed',\n",
    "                   'Acceleration from 0 to 100 km/h','Materials',\n",
    "                   'Curb weight','GVWR', 'Body style',\n",
    "                  'WLTP (Worldwide harmonized Light vehicles Test Procedure)',\n",
    "                  'EPA (Electric car range and efficiency)',\n",
    "                  'NEDC (New European Driving Cycle)']"
   ]
  },
  {
   "cell_type": "code",
   "execution_count": 16,
   "metadata": {},
   "outputs": [],
   "source": [
    "df1 = df[cols_to_include]"
   ]
  },
  {
   "cell_type": "code",
   "execution_count": 17,
   "metadata": {},
   "outputs": [],
   "source": [
    "cols_to_clean_dict = {\n",
    "    'Battery capacity': 'Battery capacity (kWh)',\n",
    "    'Voltage': 'Voltage (V)',\n",
    "    'Top speed': 'Top Speed (mph)',\n",
    "    'Acceleration from 0 to 100 km/h': 'Acceleration from 0 to 100 km/h (s)',\n",
    "    'Curb weight': 'Curb weight (lb)',\n",
    "    'GVWR': 'GVWR (lb)',\n",
    "    'WLTP (Worldwide harmonized Light vehicles Test Procedure)': 'WLTP (mi)',\n",
    "    'EPA (Electric car range and efficiency)': 'EPA (mi)',\n",
    "    'NEDC (New European Driving Cycle)': 'NEDC (mi)'\n",
    "}"
   ]
  },
  {
   "cell_type": "code",
   "execution_count": 18,
   "metadata": {},
   "outputs": [],
   "source": [
    "cols_to_clean = list(cols_to_clean_dict.keys())"
   ]
  },
  {
   "cell_type": "code",
   "execution_count": 19,
   "metadata": {},
   "outputs": [
    {
     "name": "stderr",
     "output_type": "stream",
     "text": [
      "C:\\ProgramData\\Anaconda3\\lib\\site-packages\\pandas\\core\\frame.py:3641: SettingWithCopyWarning: \n",
      "A value is trying to be set on a copy of a slice from a DataFrame.\n",
      "Try using .loc[row_indexer,col_indexer] = value instead\n",
      "\n",
      "See the caveats in the documentation: https://pandas.pydata.org/pandas-docs/stable/user_guide/indexing.html#returning-a-view-versus-a-copy\n",
      "  self[k1] = value[k2]\n"
     ]
    }
   ],
   "source": [
    "df1[cols_to_clean] = df1[cols_to_clean].applymap(lambda x:remove_units(x))"
   ]
  },
  {
   "cell_type": "code",
   "execution_count": 20,
   "metadata": {
    "scrolled": true
   },
   "outputs": [
    {
     "name": "stderr",
     "output_type": "stream",
     "text": [
      "C:\\ProgramData\\Anaconda3\\lib\\site-packages\\pandas\\core\\frame.py:5039: SettingWithCopyWarning: \n",
      "A value is trying to be set on a copy of a slice from a DataFrame\n",
      "\n",
      "See the caveats in the documentation: https://pandas.pydata.org/pandas-docs/stable/user_guide/indexing.html#returning-a-view-versus-a-copy\n",
      "  return super().rename(\n"
     ]
    }
   ],
   "source": [
    "df1.rename(columns = cols_to_clean_dict, inplace = True)"
   ]
  },
  {
   "cell_type": "code",
   "execution_count": 21,
   "metadata": {},
   "outputs": [
    {
     "data": {
      "text/plain": [
       "Index(['Model year', 'Type of rechargeable battery', 'Battery capacity (kWh)',\n",
       "       'Number of cells', 'Number of modules', 'Voltage (V)', 'Cooling',\n",
       "       'Top Speed (mph)', 'Acceleration from 0 to 100 km/h (s)', 'Materials',\n",
       "       'Curb weight (lb)', 'GVWR (lb)', 'Body style', 'WLTP (mi)', 'EPA (mi)',\n",
       "       'NEDC (mi)'],\n",
       "      dtype='object')"
      ]
     },
     "execution_count": 21,
     "metadata": {},
     "output_type": "execute_result"
    }
   ],
   "source": [
    "df1.columns"
   ]
  },
  {
   "cell_type": "code",
   "execution_count": 22,
   "metadata": {},
   "outputs": [
    {
     "name": "stderr",
     "output_type": "stream",
     "text": [
      "C:\\Users\\Moin\\AppData\\Local\\Temp/ipykernel_24396/299650256.py:2: SettingWithCopyWarning: \n",
      "A value is trying to be set on a copy of a slice from a DataFrame.\n",
      "Try using .loc[row_indexer,col_indexer] = value instead\n",
      "\n",
      "See the caveats in the documentation: https://pandas.pydata.org/pandas-docs/stable/user_guide/indexing.html#returning-a-view-versus-a-copy\n",
      "  df1['EPA (mi)'] = df1['EPA (mi)']*1.60934\n",
      "C:\\Users\\Moin\\AppData\\Local\\Temp/ipykernel_24396/299650256.py:3: SettingWithCopyWarning: \n",
      "A value is trying to be set on a copy of a slice from a DataFrame.\n",
      "Try using .loc[row_indexer,col_indexer] = value instead\n",
      "\n",
      "See the caveats in the documentation: https://pandas.pydata.org/pandas-docs/stable/user_guide/indexing.html#returning-a-view-versus-a-copy\n",
      "  df1['WLTP (mi)'] = df1['WLTP (mi)']*1.60934\n",
      "C:\\Users\\Moin\\AppData\\Local\\Temp/ipykernel_24396/299650256.py:4: SettingWithCopyWarning: \n",
      "A value is trying to be set on a copy of a slice from a DataFrame.\n",
      "Try using .loc[row_indexer,col_indexer] = value instead\n",
      "\n",
      "See the caveats in the documentation: https://pandas.pydata.org/pandas-docs/stable/user_guide/indexing.html#returning-a-view-versus-a-copy\n",
      "  df1['NEDC (mi)'] = df1['NEDC (mi)']*1.60934\n"
     ]
    }
   ],
   "source": [
    "# Change range units to km\n",
    "df1['EPA (mi)'] = df1['EPA (mi)']*1.60934\n",
    "df1['WLTP (mi)'] = df1['WLTP (mi)']*1.60934\n",
    "df1['NEDC (mi)'] = df1['NEDC (mi)']*1.60934\n",
    "\n",
    "df1.rename(columns = {\n",
    "    'EPA (mi)': 'EPA (km)',\n",
    "    'WLTP (mi)': 'WLTP (km)',\n",
    "    'NEDC (mi)': 'NEDC (km)'\n",
    "}, inplace= True)"
   ]
  },
  {
   "cell_type": "code",
   "execution_count": 23,
   "metadata": {},
   "outputs": [],
   "source": [
    "coefficient, yintercept = np.array(1.05607395690293),np.array(-57.1834136348728)"
   ]
  },
  {
   "cell_type": "code",
   "execution_count": 24,
   "metadata": {},
   "outputs": [
    {
     "data": {
      "text/plain": [
       "(array(1.05607396), array(-57.18341363))"
      ]
     },
     "execution_count": 24,
     "metadata": {},
     "output_type": "execute_result"
    }
   ],
   "source": [
    "coefficient, yintercept"
   ]
  },
  {
   "cell_type": "code",
   "execution_count": 25,
   "metadata": {},
   "outputs": [
    {
     "name": "stderr",
     "output_type": "stream",
     "text": [
      "C:\\Users\\Moin\\AppData\\Local\\Temp/ipykernel_24396/1349690928.py:2: SettingWithCopyWarning: \n",
      "A value is trying to be set on a copy of a slice from a DataFrame.\n",
      "Try using .loc[row_indexer,col_indexer] = value instead\n",
      "\n",
      "See the caveats in the documentation: https://pandas.pydata.org/pandas-docs/stable/user_guide/indexing.html#returning-a-view-versus-a-copy\n",
      "  df1['EPA (km)'] = df1[col].apply(lambda x: get_epa_estimate(x), axis=1)\n"
     ]
    }
   ],
   "source": [
    "col = ['EPA (km)','WLTP (km)']\n",
    "df1['EPA (km)'] = df1[col].apply(lambda x: get_epa_estimate(x), axis=1)"
   ]
  },
  {
   "cell_type": "code",
   "execution_count": 26,
   "metadata": {},
   "outputs": [
    {
     "data": {
      "text/plain": [
       "(227,)"
      ]
     },
     "execution_count": 26,
     "metadata": {},
     "output_type": "execute_result"
    }
   ],
   "source": [
    "df1['EPA (km)'].dropna().shape"
   ]
  },
  {
   "cell_type": "code",
   "execution_count": 27,
   "metadata": {},
   "outputs": [],
   "source": [
    "coefficient, yintercept = np.array(0.969126940504384),np.array(-61.5402495170663)"
   ]
  },
  {
   "cell_type": "code",
   "execution_count": 28,
   "metadata": {},
   "outputs": [
    {
     "name": "stderr",
     "output_type": "stream",
     "text": [
      "C:\\Users\\Moin\\AppData\\Local\\Temp/ipykernel_24396/629367455.py:3: SettingWithCopyWarning: \n",
      "A value is trying to be set on a copy of a slice from a DataFrame.\n",
      "Try using .loc[row_indexer,col_indexer] = value instead\n",
      "\n",
      "See the caveats in the documentation: https://pandas.pydata.org/pandas-docs/stable/user_guide/indexing.html#returning-a-view-versus-a-copy\n",
      "  df1['EPA (km)'] = df1[col].apply(lambda x: get_epa_estimate(x), axis=1)\n"
     ]
    }
   ],
   "source": [
    "coefficient, yintercept = get_epa_estimate_param(x='NEDC (km)', y = 'EPA (km)')\n",
    "col = ['EPA (km)','NEDC (km)']\n",
    "df1['EPA (km)'] = df1[col].apply(lambda x: get_epa_estimate(x), axis=1)"
   ]
  },
  {
   "cell_type": "code",
   "execution_count": 29,
   "metadata": {},
   "outputs": [
    {
     "data": {
      "text/plain": [
       "(227,)"
      ]
     },
     "execution_count": 29,
     "metadata": {},
     "output_type": "execute_result"
    }
   ],
   "source": [
    "df1['EPA (km)'].dropna().shape"
   ]
  },
  {
   "cell_type": "code",
   "execution_count": 30,
   "metadata": {},
   "outputs": [
    {
     "data": {
      "text/plain": [
       "Index(['Model year', 'Type of rechargeable battery', 'Battery capacity (kWh)',\n",
       "       'Number of cells', 'Number of modules', 'Voltage (V)', 'Cooling',\n",
       "       'Top Speed (mph)', 'Acceleration from 0 to 100 km/h (s)', 'Materials',\n",
       "       'Curb weight (lb)', 'GVWR (lb)', 'Body style', 'WLTP (km)', 'EPA (km)',\n",
       "       'NEDC (km)'],\n",
       "      dtype='object')"
      ]
     },
     "execution_count": 30,
     "metadata": {},
     "output_type": "execute_result"
    }
   ],
   "source": [
    "df1.columns"
   ]
  },
  {
   "cell_type": "code",
   "execution_count": 31,
   "metadata": {},
   "outputs": [
    {
     "name": "stderr",
     "output_type": "stream",
     "text": [
      "C:\\Users\\Moin\\AppData\\Local\\Temp/ipykernel_24396/3136564322.py:2: SettingWithCopyWarning: \n",
      "A value is trying to be set on a copy of a slice from a DataFrame.\n",
      "Try using .loc[row_indexer,col_indexer] = value instead\n",
      "\n",
      "See the caveats in the documentation: https://pandas.pydata.org/pandas-docs/stable/user_guide/indexing.html#returning-a-view-versus-a-copy\n",
      "  df1['Top Speed (mph)'] = df1['Top Speed (mph)'] * 1.60934\n",
      "C:\\Users\\Moin\\AppData\\Local\\Temp/ipykernel_24396/3136564322.py:4: SettingWithCopyWarning: \n",
      "A value is trying to be set on a copy of a slice from a DataFrame.\n",
      "Try using .loc[row_indexer,col_indexer] = value instead\n",
      "\n",
      "See the caveats in the documentation: https://pandas.pydata.org/pandas-docs/stable/user_guide/indexing.html#returning-a-view-versus-a-copy\n",
      "  df1['GVWR (lb)'] = df1['GVWR (lb)']*0.453592\n",
      "C:\\Users\\Moin\\AppData\\Local\\Temp/ipykernel_24396/3136564322.py:5: SettingWithCopyWarning: \n",
      "A value is trying to be set on a copy of a slice from a DataFrame.\n",
      "Try using .loc[row_indexer,col_indexer] = value instead\n",
      "\n",
      "See the caveats in the documentation: https://pandas.pydata.org/pandas-docs/stable/user_guide/indexing.html#returning-a-view-versus-a-copy\n",
      "  df1['Curb weight (lb)'] = df1['Curb weight (lb)']*0.453592\n",
      "C:\\ProgramData\\Anaconda3\\lib\\site-packages\\pandas\\core\\frame.py:5039: SettingWithCopyWarning: \n",
      "A value is trying to be set on a copy of a slice from a DataFrame\n",
      "\n",
      "See the caveats in the documentation: https://pandas.pydata.org/pandas-docs/stable/user_guide/indexing.html#returning-a-view-versus-a-copy\n",
      "  return super().rename(\n"
     ]
    }
   ],
   "source": [
    "# Change other coulmns to SI units\n",
    "df1['Top Speed (mph)'] = df1['Top Speed (mph)'] * 1.60934\n",
    "\n",
    "df1['GVWR (lb)'] = df1['GVWR (lb)']*0.453592\n",
    "df1['Curb weight (lb)'] = df1['Curb weight (lb)']*0.453592\n",
    "\n",
    "df1.rename(columns={\n",
    "    'Top Speed (mph)': 'Top Speed (km/h)',\n",
    "    'Curb weight (lb)': 'Curb weight (kg)',\n",
    "    'GVWR (lb)': 'GVWR (kg)'\n",
    "}, inplace=True)"
   ]
  },
  {
   "cell_type": "code",
   "execution_count": 32,
   "metadata": {},
   "outputs": [],
   "source": [
    "df1.to_csv('output_new_refined_bootstap.csv', index=False)"
   ]
  },
  {
   "cell_type": "code",
   "execution_count": 33,
   "metadata": {},
   "outputs": [],
   "source": [
    "df_range = df[['NEDC (New European Driving Cycle)', 'EPA (Electric car range and efficiency)','WLTP (Worldwide harmonized Light vehicles Test Procedure)']]"
   ]
  },
  {
   "cell_type": "code",
   "execution_count": 34,
   "metadata": {},
   "outputs": [],
   "source": [
    "df_range = df_range.applymap(lambda x: remove_units(x))"
   ]
  },
  {
   "cell_type": "code",
   "execution_count": 35,
   "metadata": {},
   "outputs": [
    {
     "data": {
      "text/plain": [
       "<matplotlib.collections.PathCollection at 0x273ec566ac0>"
      ]
     },
     "execution_count": 35,
     "metadata": {},
     "output_type": "execute_result"
    },
    {
     "data": {
      "image/png": "[encoded data removed]",
      "text/plain": [
       "<Figure size 432x288 with 1 Axes>"
      ]
     },
     "metadata": {
      "needs_background": "light"
     },
     "output_type": "display_data"
    }
   ],
   "source": [
    "plt.scatter(df_range['NEDC (New European Driving Cycle)'], df_range['EPA (Electric car range and efficiency)'])"
   ]
  },
  {
   "cell_type": "code",
   "execution_count": 36,
   "metadata": {},
   "outputs": [],
   "source": [
    "df_range1 = df_range[['EPA (Electric car range and efficiency)','WLTP (Worldwide harmonized Light vehicles Test Procedure)']].dropna()\n",
    "df_range2 = df_range[['EPA (Electric car range and efficiency)','NEDC (New European Driving Cycle)']].dropna()"
   ]
  },
  {
   "cell_type": "code",
   "execution_count": 37,
   "metadata": {},
   "outputs": [],
   "source": [
    "df_range1_km = df_range1.apply(lambda x: mi_to_km(x))\n",
    "df_range2_km = df_range2.apply(lambda x: mi_to_km(x))"
   ]
  },
  {
   "cell_type": "code",
   "execution_count": 44,
   "metadata": {},
   "outputs": [
    {
     "data": {
      "image/png": "[encoded data removed]",
      "text/plain": [
       "<Figure size 360x360 with 1 Axes>"
      ]
     },
     "metadata": {
      "needs_background": "light"
     },
     "output_type": "display_data"
    }
   ],
   "source": [
    "g = sns.lmplot(x = 'WLTP (Worldwide harmonized Light vehicles Test Procedure)', y = 'EPA (Electric car range and efficiency)', data = df_range1_km)\n",
    "\n",
    "def annotate(data, **kws):\n",
    "    r, p = stats.pearsonr(df_range1_km['WLTP (Worldwide harmonized Light vehicles Test Procedure)'], df_range1_km['EPA (Electric car range and efficiency)'])\n",
    "    ax = plt.gca()\n",
    "    ax.text(.05, .8, 'r={:.2f}, EPA={:e}'.format(r, p),\n",
    "            transform=ax.transAxes)\n",
    "    \n",
    "g.map_dataframe(annotate)\n",
    "plt.xlabel('WLTP [km]', fontweight='bold', fontsize = 'large')\n",
    "plt.ylabel('EPA [km]', fontweight='bold', fontsize = 'large')\n",
    "plt.show()"
   ]
  },
  {
   "cell_type": "code",
   "execution_count": 39,
   "metadata": {},
   "outputs": [
    {
     "data": {
      "text/plain": [
       "Text(20.800000000000004, 0.5, 'EPA [km]')"
      ]
     },
     "execution_count": 39,
     "metadata": {},
     "output_type": "execute_result"
    },
    {
     "data": {
      "image/png": "[encoded data removed]",
      "text/plain": [
       "<Figure size 360x360 with 1 Axes>"
      ]
     },
     "metadata": {
      "needs_background": "light"
     },
     "output_type": "display_data"
    }
   ],
   "source": [
    "g = sns.lmplot(x = 'NEDC (New European Driving Cycle)', y = 'EPA (Electric car range and efficiency)', data = df_range2_km)\n",
    "\n",
    "def annotate(data, **kws):\n",
    "    r, p = stats.pearsonr(df_range2_km['NEDC (New European Driving Cycle)'], df_range2_km['EPA (Electric car range and efficiency)'])\n",
    "    ax = plt.gca()\n",
    "    ax.text(.05, .8, 'r={:.2f}, EPA={:.2g}'.format(r, p),\n",
    "            transform=ax.transAxes)\n",
    "    \n",
    "g.map_dataframe(annotate)\n",
    "plt.xlabel('NEDC [km]', fontweight='bold', fontsize = 'large')\n",
    "plt.ylabel('EPA [km]', fontweight='bold', fontsize = 'large')"
   ]
  },
  {
   "cell_type": "code",
   "execution_count": 40,
   "metadata": {},
   "outputs": [
    {
     "data": {
      "text/html": [
       "<div>\n",
       "<style scoped>\n",
       "    .dataframe tbody tr th:only-of-type {\n",
       "        vertical-align: middle;\n",
       "    }\n",
       "\n",
       "    .dataframe tbody tr th {\n",
       "        vertical-align: top;\n",
       "    }\n",
       "\n",
       "    .dataframe thead th {\n",
       "        text-align: right;\n",
       "    }\n",
       "</style>\n",
       "<table border=\"1\" class=\"dataframe\">\n",
       "  <thead>\n",
       "    <tr style=\"text-align: right;\">\n",
       "      <th></th>\n",
       "      <th>Model year</th>\n",
       "      <th>Type of rechargeable battery</th>\n",
       "      <th>Battery capacity (kWh)</th>\n",
       "      <th>Number of cells</th>\n",
       "      <th>Number of modules</th>\n",
       "      <th>Voltage (V)</th>\n",
       "      <th>Cooling</th>\n",
       "      <th>Top Speed (km/h)</th>\n",
       "      <th>Acceleration from 0 to 100 km/h (s)</th>\n",
       "      <th>Materials</th>\n",
       "      <th>Curb weight (kg)</th>\n",
       "      <th>GVWR (kg)</th>\n",
       "      <th>Body style</th>\n",
       "      <th>WLTP (km)</th>\n",
       "      <th>EPA (km)</th>\n",
       "      <th>NEDC (km)</th>\n",
       "    </tr>\n",
       "  </thead>\n",
       "  <tbody>\n",
       "    <tr>\n",
       "      <th>0</th>\n",
       "      <td>2020</td>\n",
       "      <td>Lithium-Ion</td>\n",
       "      <td>95.0</td>\n",
       "      <td>432.0</td>\n",
       "      <td>36.0</td>\n",
       "      <td>396.0</td>\n",
       "      <td>Water-based coolant circulation</td>\n",
       "      <td>200.040962</td>\n",
       "      <td>6.6</td>\n",
       "      <td>StealAluminium</td>\n",
       "      <td>2489.997820</td>\n",
       "      <td>3129.997988</td>\n",
       "      <td>Coupe</td>\n",
       "      <td>435.970206</td>\n",
       "      <td>403.233367</td>\n",
       "      <td>NaN</td>\n",
       "    </tr>\n",
       "    <tr>\n",
       "      <th>1</th>\n",
       "      <td>2020</td>\n",
       "      <td>Lithium-Ion</td>\n",
       "      <td>95.0</td>\n",
       "      <td>432.0</td>\n",
       "      <td>36.0</td>\n",
       "      <td>396.0</td>\n",
       "      <td>Water-based coolant circulation</td>\n",
       "      <td>200.040962</td>\n",
       "      <td>6.6</td>\n",
       "      <td>StealAluminium</td>\n",
       "      <td>2489.997820</td>\n",
       "      <td>3129.997988</td>\n",
       "      <td>Sport utility vehicle (SUV)</td>\n",
       "      <td>435.970206</td>\n",
       "      <td>403.233367</td>\n",
       "      <td>NaN</td>\n",
       "    </tr>\n",
       "    <tr>\n",
       "      <th>2</th>\n",
       "      <td>2020</td>\n",
       "      <td>Lithium-Ion</td>\n",
       "      <td>71.0</td>\n",
       "      <td>324.0</td>\n",
       "      <td>27.0</td>\n",
       "      <td>396.0</td>\n",
       "      <td>NaN</td>\n",
       "      <td>190.063054</td>\n",
       "      <td>6.8</td>\n",
       "      <td>StealAluminium</td>\n",
       "      <td>2370.000056</td>\n",
       "      <td>3039.996264</td>\n",
       "      <td>Coupe</td>\n",
       "      <td>346.973704</td>\n",
       "      <td>309.246479</td>\n",
       "      <td>NaN</td>\n",
       "    </tr>\n",
       "    <tr>\n",
       "      <th>3</th>\n",
       "      <td>2020</td>\n",
       "      <td>Lithium-Ion</td>\n",
       "      <td>71.0</td>\n",
       "      <td>324.0</td>\n",
       "      <td>27.0</td>\n",
       "      <td>396.0</td>\n",
       "      <td>Water-based coolant circulation</td>\n",
       "      <td>190.063054</td>\n",
       "      <td>6.8</td>\n",
       "      <td>StealAluminium</td>\n",
       "      <td>NaN</td>\n",
       "      <td>NaN</td>\n",
       "      <td>Sport utility vehicle (SUV)</td>\n",
       "      <td>336.030192</td>\n",
       "      <td>297.689321</td>\n",
       "      <td>NaN</td>\n",
       "    </tr>\n",
       "    <tr>\n",
       "      <th>4</th>\n",
       "      <td>2019</td>\n",
       "      <td>NaN</td>\n",
       "      <td>82.0</td>\n",
       "      <td>NaN</td>\n",
       "      <td>NaN</td>\n",
       "      <td>NaN</td>\n",
       "      <td>NaN</td>\n",
       "      <td>179.924212</td>\n",
       "      <td>6.3</td>\n",
       "      <td>-</td>\n",
       "      <td>NaN</td>\n",
       "      <td>NaN</td>\n",
       "      <td>Sport utility vehicle (SUV)</td>\n",
       "      <td>449.971464</td>\n",
       "      <td>418.019731</td>\n",
       "      <td>NaN</td>\n",
       "    </tr>\n",
       "    <tr>\n",
       "      <th>...</th>\n",
       "      <td>...</td>\n",
       "      <td>...</td>\n",
       "      <td>...</td>\n",
       "      <td>...</td>\n",
       "      <td>...</td>\n",
       "      <td>...</td>\n",
       "      <td>...</td>\n",
       "      <td>...</td>\n",
       "      <td>...</td>\n",
       "      <td>...</td>\n",
       "      <td>...</td>\n",
       "      <td>...</td>\n",
       "      <td>...</td>\n",
       "      <td>...</td>\n",
       "      <td>...</td>\n",
       "      <td>...</td>\n",
       "    </tr>\n",
       "    <tr>\n",
       "      <th>314</th>\n",
       "      <td>2015</td>\n",
       "      <td>Lithium-Ion</td>\n",
       "      <td>24.2</td>\n",
       "      <td>264.0</td>\n",
       "      <td>27.0</td>\n",
       "      <td>323.0</td>\n",
       "      <td>Passive cooling</td>\n",
       "      <td>140.012580</td>\n",
       "      <td>10.4</td>\n",
       "      <td>Steel</td>\n",
       "      <td>1537.998930</td>\n",
       "      <td>1959.998248</td>\n",
       "      <td>Hatchback</td>\n",
       "      <td>NaN</td>\n",
       "      <td>133.575220</td>\n",
       "      <td>NaN</td>\n",
       "    </tr>\n",
       "    <tr>\n",
       "      <th>315</th>\n",
       "      <td>2014</td>\n",
       "      <td>Lithium-Ion</td>\n",
       "      <td>24.2</td>\n",
       "      <td>264.0</td>\n",
       "      <td>27.0</td>\n",
       "      <td>323.0</td>\n",
       "      <td>Passive cooling</td>\n",
       "      <td>140.012580</td>\n",
       "      <td>10.4</td>\n",
       "      <td>Steel</td>\n",
       "      <td>1509.998696</td>\n",
       "      <td>1959.998248</td>\n",
       "      <td>Hatchback</td>\n",
       "      <td>NaN</td>\n",
       "      <td>NaN</td>\n",
       "      <td>NaN</td>\n",
       "    </tr>\n",
       "    <tr>\n",
       "      <th>316</th>\n",
       "      <td>2021</td>\n",
       "      <td>Lithium-Ion</td>\n",
       "      <td>78.0</td>\n",
       "      <td>NaN</td>\n",
       "      <td>NaN</td>\n",
       "      <td>NaN</td>\n",
       "      <td>Water-based coolant circulation</td>\n",
       "      <td>179.924212</td>\n",
       "      <td>4.9</td>\n",
       "      <td>SteelAluminium</td>\n",
       "      <td>NaN</td>\n",
       "      <td>NaN</td>\n",
       "      <td>Sport utility vehicle (SUV)</td>\n",
       "      <td>399.920990</td>\n",
       "      <td>334.742720</td>\n",
       "      <td>NaN</td>\n",
       "    </tr>\n",
       "    <tr>\n",
       "      <th>317</th>\n",
       "      <td>2018</td>\n",
       "      <td>NaN</td>\n",
       "      <td>NaN</td>\n",
       "      <td>NaN</td>\n",
       "      <td>NaN</td>\n",
       "      <td>NaN</td>\n",
       "      <td>NaN</td>\n",
       "      <td>NaN</td>\n",
       "      <td>NaN</td>\n",
       "      <td>NaN</td>\n",
       "      <td>NaN</td>\n",
       "      <td>NaN</td>\n",
       "      <td>Hatchback</td>\n",
       "      <td>NaN</td>\n",
       "      <td>201.167500</td>\n",
       "      <td>NaN</td>\n",
       "    </tr>\n",
       "    <tr>\n",
       "      <th>318</th>\n",
       "      <td>2018</td>\n",
       "      <td>NaN</td>\n",
       "      <td>NaN</td>\n",
       "      <td>NaN</td>\n",
       "      <td>NaN</td>\n",
       "      <td>NaN</td>\n",
       "      <td>NaN</td>\n",
       "      <td>NaN</td>\n",
       "      <td>NaN</td>\n",
       "      <td>NaN</td>\n",
       "      <td>NaN</td>\n",
       "      <td>NaN</td>\n",
       "      <td>Hatchback</td>\n",
       "      <td>NaN</td>\n",
       "      <td>201.167500</td>\n",
       "      <td>NaN</td>\n",
       "    </tr>\n",
       "  </tbody>\n",
       "</table>\n",
       "<p>319 rows × 16 columns</p>\n",
       "</div>"
      ],
      "text/plain": [
       "     Model year Type of rechargeable battery  Battery capacity (kWh)  \\\n",
       "0          2020                  Lithium-Ion                    95.0   \n",
       "1          2020                  Lithium-Ion                    95.0   \n",
       "2          2020                  Lithium-Ion                    71.0   \n",
       "3          2020                  Lithium-Ion                    71.0   \n",
       "4          2019                          NaN                    82.0   \n",
       "..          ...                          ...                     ...   \n",
       "314        2015                  Lithium-Ion                    24.2   \n",
       "315        2014                  Lithium-Ion                    24.2   \n",
       "316        2021                  Lithium-Ion                    78.0   \n",
       "317        2018                          NaN                     NaN   \n",
       "318        2018                          NaN                     NaN   \n",
       "\n",
       "     Number of cells  Number of modules  Voltage (V)  \\\n",
       "0              432.0               36.0        396.0   \n",
       "1              432.0               36.0        396.0   \n",
       "2              324.0               27.0        396.0   \n",
       "3              324.0               27.0        396.0   \n",
       "4                NaN                NaN          NaN   \n",
       "..               ...                ...          ...   \n",
       "314            264.0               27.0        323.0   \n",
       "315            264.0               27.0        323.0   \n",
       "316              NaN                NaN          NaN   \n",
       "317              NaN                NaN          NaN   \n",
       "318              NaN                NaN          NaN   \n",
       "\n",
       "                             Cooling  Top Speed (km/h)  \\\n",
       "0    Water-based coolant circulation        200.040962   \n",
       "1    Water-based coolant circulation        200.040962   \n",
       "2                                NaN        190.063054   \n",
       "3    Water-based coolant circulation        190.063054   \n",
       "4                                NaN        179.924212   \n",
       "..                               ...               ...   \n",
       "314                  Passive cooling        140.012580   \n",
       "315                  Passive cooling        140.012580   \n",
       "316  Water-based coolant circulation        179.924212   \n",
       "317                              NaN               NaN   \n",
       "318                              NaN               NaN   \n",
       "\n",
       "     Acceleration from 0 to 100 km/h (s)       Materials  Curb weight (kg)  \\\n",
       "0                                    6.6  StealAluminium       2489.997820   \n",
       "1                                    6.6  StealAluminium       2489.997820   \n",
       "2                                    6.8  StealAluminium       2370.000056   \n",
       "3                                    6.8  StealAluminium               NaN   \n",
       "4                                    6.3               -               NaN   \n",
       "..                                   ...             ...               ...   \n",
       "314                                 10.4           Steel       1537.998930   \n",
       "315                                 10.4           Steel       1509.998696   \n",
       "316                                  4.9  SteelAluminium               NaN   \n",
       "317                                  NaN             NaN               NaN   \n",
       "318                                  NaN             NaN               NaN   \n",
       "\n",
       "       GVWR (kg)                   Body style   WLTP (km)    EPA (km)  \\\n",
       "0    3129.997988                        Coupe  435.970206  403.233367   \n",
       "1    3129.997988  Sport utility vehicle (SUV)  435.970206  403.233367   \n",
       "2    3039.996264                        Coupe  346.973704  309.246479   \n",
       "3            NaN  Sport utility vehicle (SUV)  336.030192  297.689321   \n",
       "4            NaN  Sport utility vehicle (SUV)  449.971464  418.019731   \n",
       "..           ...                          ...         ...         ...   \n",
       "314  1959.998248                    Hatchback         NaN  133.575220   \n",
       "315  1959.998248                    Hatchback         NaN         NaN   \n",
       "316          NaN  Sport utility vehicle (SUV)  399.920990  334.742720   \n",
       "317          NaN                    Hatchback         NaN  201.167500   \n",
       "318          NaN                    Hatchback         NaN  201.167500   \n",
       "\n",
       "     NEDC (km)  \n",
       "0          NaN  \n",
       "1          NaN  \n",
       "2          NaN  \n",
       "3          NaN  \n",
       "4          NaN  \n",
       "..         ...  \n",
       "314        NaN  \n",
       "315        NaN  \n",
       "316        NaN  \n",
       "317        NaN  \n",
       "318        NaN  \n",
       "\n",
       "[319 rows x 16 columns]"
      ]
     },
     "execution_count": 40,
     "metadata": {},
     "output_type": "execute_result"
    }
   ],
   "source": [
    "df1"
   ]
  },
  {
   "cell_type": "code",
   "execution_count": null,
   "metadata": {},
   "outputs": [],
   "source": []
  }
 ],
 "metadata": {
  "kernelspec": {
   "display_name": "Python 3 (ipykernel)",
   "language": "python",
   "name": "python3"
  },
  "language_info": {
   "codemirror_mode": {
    "name": "ipython",
    "version": 3
   },
   "file_extension": ".py",
   "mimetype": "text/x-python",
   "name": "python",
   "nbconvert_exporter": "python",
   "pygments_lexer": "ipython3",
   "version": "3.9.7"
  }
 },
 "nbformat": 4,
 "nbformat_minor": 4
}
